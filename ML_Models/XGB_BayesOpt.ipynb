{
  "cells": [
    {
      "cell_type": "code",
      "execution_count": 1,
      "metadata": {
        "id": "Tf3RuPVe-PGs"
      },
      "outputs": [
        {
          "name": "stderr",
          "output_type": "stream",
          "text": [
            "c:\\Users\\shoha\\AppData\\Local\\Programs\\Python\\Python312\\Lib\\site-packages\\tqdm\\auto.py:21: TqdmWarning: IProgress not found. Please update jupyter and ipywidgets. See https://ipywidgets.readthedocs.io/en/stable/user_install.html\n",
            "  from .autonotebook import tqdm as notebook_tqdm\n"
          ]
        }
      ],
      "source": [
        "import numpy as np\n",
        "import pandas as pd\n",
        "pd.set_option(\"display.max_columns\", None)\n",
        "import matplotlib.pyplot as plt\n",
        "import seaborn as sns\n",
        "sns.set_theme()\n",
        "import os\n",
        "from itertools import cycle\n",
        "\n",
        "import tensorflow as tf\n",
        "from xgboost import XGBClassifier\n",
        "from sklearn.model_selection import train_test_split, StratifiedKFold\n",
        "from sklearn.metrics import accuracy_score, roc_auc_score, classification_report, RocCurveDisplay, confusion_matrix, ConfusionMatrixDisplay\n",
        "from sklearn.preprocessing import RobustScaler, LabelEncoder\n",
        "from tensorflow.keras.utils import to_categorical\n",
        "\n",
        "import optuna"
      ]
    },
    {
      "cell_type": "code",
      "execution_count": 2,
      "metadata": {},
      "outputs": [
        {
          "data": {
            "text/plain": [
              "[]"
            ]
          },
          "execution_count": 2,
          "metadata": {},
          "output_type": "execute_result"
        }
      ],
      "source": [
        "tf.config.list_physical_devices(\"GPU\")"
      ]
    },
    {
      "cell_type": "code",
      "execution_count": 4,
      "metadata": {
        "id": "6kz-yjib-PGw"
      },
      "outputs": [
        {
          "data": {
            "text/plain": [
              "'d:\\\\Research Projects\\\\HEA\\\\Featurize_New_Alloys\\\\HEA'"
            ]
          },
          "execution_count": 4,
          "metadata": {},
          "output_type": "execute_result"
        }
      ],
      "source": [
        "pwd = os.getcwd()\n",
        "pwd"
      ]
    },
    {
      "cell_type": "code",
      "execution_count": 5,
      "metadata": {
        "id": "HS4EracF-PGy"
      },
      "outputs": [
        {
          "name": "stdout",
          "output_type": "stream",
          "text": [
            "Shape of Dataframe:  (1167, 44)\n"
          ]
        },
        {
          "data": {
            "text/html": [
              "<div>\n",
              "<style scoped>\n",
              "    .dataframe tbody tr th:only-of-type {\n",
              "        vertical-align: middle;\n",
              "    }\n",
              "\n",
              "    .dataframe tbody tr th {\n",
              "        vertical-align: top;\n",
              "    }\n",
              "\n",
              "    .dataframe thead th {\n",
              "        text-align: right;\n",
              "    }\n",
              "</style>\n",
              "<table border=\"1\" class=\"dataframe\">\n",
              "  <thead>\n",
              "    <tr style=\"text-align: right;\">\n",
              "      <th></th>\n",
              "      <th>Alloy</th>\n",
              "      <th>avg_dev_AtomicWeight</th>\n",
              "      <th>maximum_MeltingT</th>\n",
              "      <th>avg_dev_MeltingT</th>\n",
              "      <th>mode_MeltingT</th>\n",
              "      <th>avg_dev_Column</th>\n",
              "      <th>mean_Row</th>\n",
              "      <th>mode_Row</th>\n",
              "      <th>minimum_CovalentRadius</th>\n",
              "      <th>maximum_CovalentRadius</th>\n",
              "      <th>range_CovalentRadius</th>\n",
              "      <th>avg_dev_CovalentRadius</th>\n",
              "      <th>mode_CovalentRadius</th>\n",
              "      <th>maximum_Electronegativity</th>\n",
              "      <th>mean_Electronegativity</th>\n",
              "      <th>mode_Electronegativity</th>\n",
              "      <th>mean_NsValence</th>\n",
              "      <th>maximum_NpValence</th>\n",
              "      <th>mean_NpValence</th>\n",
              "      <th>avg_dev_NpValence</th>\n",
              "      <th>range_NdValence</th>\n",
              "      <th>mean_NdValence</th>\n",
              "      <th>avg_dev_NdValence</th>\n",
              "      <th>avg_dev_NValence</th>\n",
              "      <th>mode_NValence</th>\n",
              "      <th>maximum_NdUnfilled</th>\n",
              "      <th>range_NdUnfilled</th>\n",
              "      <th>avg_dev_NdUnfilled</th>\n",
              "      <th>mode_NUnfilled</th>\n",
              "      <th>minimum_GSvolume_pa</th>\n",
              "      <th>range_GSvolume_pa</th>\n",
              "      <th>mode_GSvolume_pa</th>\n",
              "      <th>maximum_GSbandgap</th>\n",
              "      <th>avg_dev_GSbandgap</th>\n",
              "      <th>range_GSmagmom</th>\n",
              "      <th>minimum_SpaceGroupNumber</th>\n",
              "      <th>maximum_SpaceGroupNumber</th>\n",
              "      <th>mean_SpaceGroupNumber</th>\n",
              "      <th>range_Column</th>\n",
              "      <th>maximum_NpUnfilled</th>\n",
              "      <th>maximum_NdValence</th>\n",
              "      <th>mode_MendeleevNumber</th>\n",
              "      <th>range_NUnfilled</th>\n",
              "      <th>Phase</th>\n",
              "    </tr>\n",
              "  </thead>\n",
              "  <tbody>\n",
              "    <tr>\n",
              "      <th>0</th>\n",
              "      <td>Al0.5NbTaTiV</td>\n",
              "      <td>3.838070</td>\n",
              "      <td>3290.0</td>\n",
              "      <td>584.546173</td>\n",
              "      <td>7.571474</td>\n",
              "      <td>0.966843</td>\n",
              "      <td>4.555556</td>\n",
              "      <td>4</td>\n",
              "      <td>121</td>\n",
              "      <td>170</td>\n",
              "      <td>3.912023</td>\n",
              "      <td>2.391138</td>\n",
              "      <td>153</td>\n",
              "      <td>1.63</td>\n",
              "      <td>1.572222</td>\n",
              "      <td>0.916291</td>\n",
              "      <td>1.777778</td>\n",
              "      <td>0.693147</td>\n",
              "      <td>0.111111</td>\n",
              "      <td>0.180262</td>\n",
              "      <td>4</td>\n",
              "      <td>2.666667</td>\n",
              "      <td>0.635989</td>\n",
              "      <td>1.797913</td>\n",
              "      <td>1.609438</td>\n",
              "      <td>8</td>\n",
              "      <td>8</td>\n",
              "      <td>0.908856</td>\n",
              "      <td>7</td>\n",
              "      <td>2.639771</td>\n",
              "      <td>1.819699</td>\n",
              "      <td>2.639771</td>\n",
              "      <td>0.0</td>\n",
              "      <td>0.0</td>\n",
              "      <td>0.000023</td>\n",
              "      <td>194</td>\n",
              "      <td>229</td>\n",
              "      <td>220.777778</td>\n",
              "      <td>9</td>\n",
              "      <td>5</td>\n",
              "      <td>4</td>\n",
              "      <td>43</td>\n",
              "      <td>3</td>\n",
              "      <td>BCC</td>\n",
              "    </tr>\n",
              "    <tr>\n",
              "      <th>1</th>\n",
              "      <td>Al0.75MoNbTiV</td>\n",
              "      <td>3.255577</td>\n",
              "      <td>2896.0</td>\n",
              "      <td>521.067701</td>\n",
              "      <td>7.571474</td>\n",
              "      <td>1.140210</td>\n",
              "      <td>4.263158</td>\n",
              "      <td>4</td>\n",
              "      <td>121</td>\n",
              "      <td>164</td>\n",
              "      <td>3.784190</td>\n",
              "      <td>2.377029</td>\n",
              "      <td>153</td>\n",
              "      <td>2.16</td>\n",
              "      <td>1.713158</td>\n",
              "      <td>0.932164</td>\n",
              "      <td>1.578947</td>\n",
              "      <td>0.693147</td>\n",
              "      <td>0.157895</td>\n",
              "      <td>0.235805</td>\n",
              "      <td>5</td>\n",
              "      <td>2.947368</td>\n",
              "      <td>0.845714</td>\n",
              "      <td>0.598806</td>\n",
              "      <td>1.609438</td>\n",
              "      <td>8</td>\n",
              "      <td>8</td>\n",
              "      <td>1.074312</td>\n",
              "      <td>6</td>\n",
              "      <td>2.639771</td>\n",
              "      <td>1.819699</td>\n",
              "      <td>2.639771</td>\n",
              "      <td>0.0</td>\n",
              "      <td>0.0</td>\n",
              "      <td>0.000023</td>\n",
              "      <td>194</td>\n",
              "      <td>229</td>\n",
              "      <td>221.000000</td>\n",
              "      <td>9</td>\n",
              "      <td>5</td>\n",
              "      <td>5</td>\n",
              "      <td>43</td>\n",
              "      <td>3</td>\n",
              "      <td>BCC</td>\n",
              "    </tr>\n",
              "    <tr>\n",
              "      <th>2</th>\n",
              "      <td>Al0.25MoNbTiV</td>\n",
              "      <td>3.205911</td>\n",
              "      <td>2896.0</td>\n",
              "      <td>441.662561</td>\n",
              "      <td>7.571474</td>\n",
              "      <td>0.758442</td>\n",
              "      <td>4.411765</td>\n",
              "      <td>4</td>\n",
              "      <td>121</td>\n",
              "      <td>164</td>\n",
              "      <td>3.784190</td>\n",
              "      <td>1.950841</td>\n",
              "      <td>153</td>\n",
              "      <td>2.16</td>\n",
              "      <td>1.725294</td>\n",
              "      <td>0.932164</td>\n",
              "      <td>1.529412</td>\n",
              "      <td>0.693147</td>\n",
              "      <td>0.058824</td>\n",
              "      <td>0.105014</td>\n",
              "      <td>5</td>\n",
              "      <td>3.294118</td>\n",
              "      <td>0.758442</td>\n",
              "      <td>0.492669</td>\n",
              "      <td>1.609438</td>\n",
              "      <td>8</td>\n",
              "      <td>8</td>\n",
              "      <td>0.833360</td>\n",
              "      <td>6</td>\n",
              "      <td>2.639771</td>\n",
              "      <td>1.819699</td>\n",
              "      <td>2.639771</td>\n",
              "      <td>0.0</td>\n",
              "      <td>0.0</td>\n",
              "      <td>0.000023</td>\n",
              "      <td>194</td>\n",
              "      <td>229</td>\n",
              "      <td>220.529412</td>\n",
              "      <td>9</td>\n",
              "      <td>5</td>\n",
              "      <td>5</td>\n",
              "      <td>43</td>\n",
              "      <td>3</td>\n",
              "      <td>BCC</td>\n",
              "    </tr>\n",
              "    <tr>\n",
              "      <th>3</th>\n",
              "      <td>Al0.25NbTaTiV</td>\n",
              "      <td>3.825406</td>\n",
              "      <td>3290.0</td>\n",
              "      <td>539.821730</td>\n",
              "      <td>7.571474</td>\n",
              "      <td>0.648931</td>\n",
              "      <td>4.647059</td>\n",
              "      <td>4</td>\n",
              "      <td>121</td>\n",
              "      <td>170</td>\n",
              "      <td>3.912023</td>\n",
              "      <td>2.140270</td>\n",
              "      <td>153</td>\n",
              "      <td>1.63</td>\n",
              "      <td>1.570000</td>\n",
              "      <td>0.916291</td>\n",
              "      <td>1.764706</td>\n",
              "      <td>0.693147</td>\n",
              "      <td>0.058824</td>\n",
              "      <td>0.105014</td>\n",
              "      <td>4</td>\n",
              "      <td>2.823529</td>\n",
              "      <td>0.542163</td>\n",
              "      <td>1.825219</td>\n",
              "      <td>1.609438</td>\n",
              "      <td>8</td>\n",
              "      <td>8</td>\n",
              "      <td>0.718768</td>\n",
              "      <td>7</td>\n",
              "      <td>2.639771</td>\n",
              "      <td>1.819699</td>\n",
              "      <td>2.639771</td>\n",
              "      <td>0.0</td>\n",
              "      <td>0.0</td>\n",
              "      <td>0.000023</td>\n",
              "      <td>194</td>\n",
              "      <td>229</td>\n",
              "      <td>220.529412</td>\n",
              "      <td>9</td>\n",
              "      <td>5</td>\n",
              "      <td>4</td>\n",
              "      <td>43</td>\n",
              "      <td>3</td>\n",
              "      <td>BCC</td>\n",
              "    </tr>\n",
              "    <tr>\n",
              "      <th>4</th>\n",
              "      <td>Al0.2MoTaTiV</td>\n",
              "      <td>3.838178</td>\n",
              "      <td>3290.0</td>\n",
              "      <td>565.511565</td>\n",
              "      <td>7.571474</td>\n",
              "      <td>0.703300</td>\n",
              "      <td>4.666667</td>\n",
              "      <td>4</td>\n",
              "      <td>121</td>\n",
              "      <td>170</td>\n",
              "      <td>3.912023</td>\n",
              "      <td>2.105461</td>\n",
              "      <td>153</td>\n",
              "      <td>2.16</td>\n",
              "      <td>1.702857</td>\n",
              "      <td>0.916291</td>\n",
              "      <td>1.761905</td>\n",
              "      <td>0.693147</td>\n",
              "      <td>0.047619</td>\n",
              "      <td>0.086822</td>\n",
              "      <td>5</td>\n",
              "      <td>3.095238</td>\n",
              "      <td>0.645547</td>\n",
              "      <td>1.812332</td>\n",
              "      <td>1.609438</td>\n",
              "      <td>8</td>\n",
              "      <td>8</td>\n",
              "      <td>0.829650</td>\n",
              "      <td>6</td>\n",
              "      <td>2.639771</td>\n",
              "      <td>1.809927</td>\n",
              "      <td>2.639771</td>\n",
              "      <td>0.0</td>\n",
              "      <td>0.0</td>\n",
              "      <td>0.000023</td>\n",
              "      <td>194</td>\n",
              "      <td>229</td>\n",
              "      <td>220.476191</td>\n",
              "      <td>9</td>\n",
              "      <td>5</td>\n",
              "      <td>5</td>\n",
              "      <td>43</td>\n",
              "      <td>3</td>\n",
              "      <td>BCC</td>\n",
              "    </tr>\n",
              "  </tbody>\n",
              "</table>\n",
              "</div>"
            ],
            "text/plain": [
              "           Alloy  avg_dev_AtomicWeight  maximum_MeltingT  avg_dev_MeltingT  \\\n",
              "0   Al0.5NbTaTiV              3.838070            3290.0        584.546173   \n",
              "1  Al0.75MoNbTiV              3.255577            2896.0        521.067701   \n",
              "2  Al0.25MoNbTiV              3.205911            2896.0        441.662561   \n",
              "3  Al0.25NbTaTiV              3.825406            3290.0        539.821730   \n",
              "4   Al0.2MoTaTiV              3.838178            3290.0        565.511565   \n",
              "\n",
              "   mode_MeltingT  avg_dev_Column  mean_Row  mode_Row  minimum_CovalentRadius  \\\n",
              "0       7.571474        0.966843  4.555556         4                     121   \n",
              "1       7.571474        1.140210  4.263158         4                     121   \n",
              "2       7.571474        0.758442  4.411765         4                     121   \n",
              "3       7.571474        0.648931  4.647059         4                     121   \n",
              "4       7.571474        0.703300  4.666667         4                     121   \n",
              "\n",
              "   maximum_CovalentRadius  range_CovalentRadius  avg_dev_CovalentRadius  \\\n",
              "0                     170              3.912023                2.391138   \n",
              "1                     164              3.784190                2.377029   \n",
              "2                     164              3.784190                1.950841   \n",
              "3                     170              3.912023                2.140270   \n",
              "4                     170              3.912023                2.105461   \n",
              "\n",
              "   mode_CovalentRadius  maximum_Electronegativity  mean_Electronegativity  \\\n",
              "0                  153                       1.63                1.572222   \n",
              "1                  153                       2.16                1.713158   \n",
              "2                  153                       2.16                1.725294   \n",
              "3                  153                       1.63                1.570000   \n",
              "4                  153                       2.16                1.702857   \n",
              "\n",
              "   mode_Electronegativity  mean_NsValence  maximum_NpValence  mean_NpValence  \\\n",
              "0                0.916291        1.777778           0.693147        0.111111   \n",
              "1                0.932164        1.578947           0.693147        0.157895   \n",
              "2                0.932164        1.529412           0.693147        0.058824   \n",
              "3                0.916291        1.764706           0.693147        0.058824   \n",
              "4                0.916291        1.761905           0.693147        0.047619   \n",
              "\n",
              "   avg_dev_NpValence  range_NdValence  mean_NdValence  avg_dev_NdValence  \\\n",
              "0           0.180262                4        2.666667           0.635989   \n",
              "1           0.235805                5        2.947368           0.845714   \n",
              "2           0.105014                5        3.294118           0.758442   \n",
              "3           0.105014                4        2.823529           0.542163   \n",
              "4           0.086822                5        3.095238           0.645547   \n",
              "\n",
              "   avg_dev_NValence  mode_NValence  maximum_NdUnfilled  range_NdUnfilled  \\\n",
              "0          1.797913       1.609438                   8                 8   \n",
              "1          0.598806       1.609438                   8                 8   \n",
              "2          0.492669       1.609438                   8                 8   \n",
              "3          1.825219       1.609438                   8                 8   \n",
              "4          1.812332       1.609438                   8                 8   \n",
              "\n",
              "   avg_dev_NdUnfilled  mode_NUnfilled  minimum_GSvolume_pa  range_GSvolume_pa  \\\n",
              "0            0.908856               7             2.639771           1.819699   \n",
              "1            1.074312               6             2.639771           1.819699   \n",
              "2            0.833360               6             2.639771           1.819699   \n",
              "3            0.718768               7             2.639771           1.819699   \n",
              "4            0.829650               6             2.639771           1.809927   \n",
              "\n",
              "   mode_GSvolume_pa  maximum_GSbandgap  avg_dev_GSbandgap  range_GSmagmom  \\\n",
              "0          2.639771                0.0                0.0        0.000023   \n",
              "1          2.639771                0.0                0.0        0.000023   \n",
              "2          2.639771                0.0                0.0        0.000023   \n",
              "3          2.639771                0.0                0.0        0.000023   \n",
              "4          2.639771                0.0                0.0        0.000023   \n",
              "\n",
              "   minimum_SpaceGroupNumber  maximum_SpaceGroupNumber  mean_SpaceGroupNumber  \\\n",
              "0                       194                       229             220.777778   \n",
              "1                       194                       229             221.000000   \n",
              "2                       194                       229             220.529412   \n",
              "3                       194                       229             220.529412   \n",
              "4                       194                       229             220.476191   \n",
              "\n",
              "   range_Column  maximum_NpUnfilled  maximum_NdValence  mode_MendeleevNumber  \\\n",
              "0             9                   5                  4                    43   \n",
              "1             9                   5                  5                    43   \n",
              "2             9                   5                  5                    43   \n",
              "3             9                   5                  4                    43   \n",
              "4             9                   5                  5                    43   \n",
              "\n",
              "   range_NUnfilled Phase  \n",
              "0                3   BCC  \n",
              "1                3   BCC  \n",
              "2                3   BCC  \n",
              "3                3   BCC  \n",
              "4                3   BCC  "
            ]
          },
          "execution_count": 5,
          "metadata": {},
          "output_type": "execute_result"
        }
      ],
      "source": [
        "df = pd.read_csv(pwd+\"/raw_dataset/HEA_tr_NETCORE.csv\")\n",
        "print(\"Shape of Dataframe: \", df.shape)\n",
        "df.head()"
      ]
    },
    {
      "cell_type": "code",
      "execution_count": 6,
      "metadata": {
        "id": "0Ijqh3vm-PGz"
      },
      "outputs": [
        {
          "name": "stdout",
          "output_type": "stream",
          "text": [
            "Shape of feature: (1167, 42)\n",
            "Shape of labels: (1167,)\n"
          ]
        }
      ],
      "source": [
        "# SHUFFLE THE DATASET\n",
        "df = df.sample(frac=1, random_state=42)\n",
        "X = df.copy().drop(columns=[\"Alloy\", \"Phase\"])\n",
        "y = df[\"Phase\"].astype(\"category\")\n",
        "print(f\"Shape of feature: {X.shape}\\nShape of labels: {y.shape}\")"
      ]
    },
    {
      "cell_type": "code",
      "execution_count": 7,
      "metadata": {
        "id": "KKaGJmUZ-PG0"
      },
      "outputs": [
        {
          "name": "stdout",
          "output_type": "stream",
          "text": [
            "Phase\n",
            "MIP        428\n",
            "BCC        363\n",
            "FCC        211\n",
            "FCC_BCC    165\n",
            "Name: count, dtype: int64\n"
          ]
        }
      ],
      "source": [
        "# check class imbalance\n",
        "print(y.value_counts(ascending=False))"
      ]
    },
    {
      "cell_type": "code",
      "execution_count": 8,
      "metadata": {
        "id": "r2k0HCzC-PG1"
      },
      "outputs": [
        {
          "name": "stdout",
          "output_type": "stream",
          "text": [
            "Shape of feature: (1712, 42)\n",
            "Shape of labels: (1712,)\n"
          ]
        },
        {
          "name": "stderr",
          "output_type": "stream",
          "text": [
            "c:\\Users\\shoha\\AppData\\Local\\Programs\\Python\\Python312\\Lib\\site-packages\\joblib\\externals\\loky\\backend\\context.py:136: UserWarning: Could not find the number of physical cores for the following reason:\n",
            "found 0 physical cores < 1\n",
            "Returning the number of logical cores instead. You can silence this warning by setting LOKY_MAX_CPU_COUNT to the number of cores you want to use.\n",
            "  warnings.warn(\n",
            "  File \"c:\\Users\\shoha\\AppData\\Local\\Programs\\Python\\Python312\\Lib\\site-packages\\joblib\\externals\\loky\\backend\\context.py\", line 282, in _count_physical_cores\n",
            "    raise ValueError(f\"found {cpu_count_physical} physical cores < 1\")\n"
          ]
        }
      ],
      "source": [
        "from imblearn.over_sampling import SMOTE\n",
        "X, y = SMOTE(random_state=42).fit_resample(X, y)\n",
        "print(f\"Shape of feature: {X.shape}\\nShape of labels: {y.shape}\")"
      ]
    },
    {
      "cell_type": "code",
      "execution_count": 9,
      "metadata": {
        "id": "m6dTs9JE-PG1"
      },
      "outputs": [
        {
          "name": "stdout",
          "output_type": "stream",
          "text": [
            "Phase\n",
            "BCC        428\n",
            "FCC        428\n",
            "FCC_BCC    428\n",
            "MIP        428\n",
            "Name: count, dtype: int64\n"
          ]
        }
      ],
      "source": [
        "# check for class imbalance\n",
        "print(y.value_counts(ascending=False))"
      ]
    },
    {
      "cell_type": "code",
      "execution_count": 10,
      "metadata": {
        "id": "U5DEy8XG-PG2"
      },
      "outputs": [
        {
          "data": {
            "text/html": [
              "<div>\n",
              "<style scoped>\n",
              "    .dataframe tbody tr th:only-of-type {\n",
              "        vertical-align: middle;\n",
              "    }\n",
              "\n",
              "    .dataframe tbody tr th {\n",
              "        vertical-align: top;\n",
              "    }\n",
              "\n",
              "    .dataframe thead th {\n",
              "        text-align: right;\n",
              "    }\n",
              "</style>\n",
              "<table border=\"1\" class=\"dataframe\">\n",
              "  <thead>\n",
              "    <tr style=\"text-align: right;\">\n",
              "      <th></th>\n",
              "      <th>avg_dev_AtomicWeight</th>\n",
              "      <th>maximum_MeltingT</th>\n",
              "      <th>avg_dev_MeltingT</th>\n",
              "      <th>mode_MeltingT</th>\n",
              "      <th>avg_dev_Column</th>\n",
              "      <th>mean_Row</th>\n",
              "      <th>mode_Row</th>\n",
              "      <th>minimum_CovalentRadius</th>\n",
              "      <th>maximum_CovalentRadius</th>\n",
              "      <th>range_CovalentRadius</th>\n",
              "      <th>avg_dev_CovalentRadius</th>\n",
              "      <th>mode_CovalentRadius</th>\n",
              "      <th>maximum_Electronegativity</th>\n",
              "      <th>mean_Electronegativity</th>\n",
              "      <th>mode_Electronegativity</th>\n",
              "      <th>mean_NsValence</th>\n",
              "      <th>maximum_NpValence</th>\n",
              "      <th>mean_NpValence</th>\n",
              "      <th>avg_dev_NpValence</th>\n",
              "      <th>range_NdValence</th>\n",
              "      <th>mean_NdValence</th>\n",
              "      <th>avg_dev_NdValence</th>\n",
              "      <th>avg_dev_NValence</th>\n",
              "      <th>mode_NValence</th>\n",
              "      <th>maximum_NdUnfilled</th>\n",
              "      <th>range_NdUnfilled</th>\n",
              "      <th>avg_dev_NdUnfilled</th>\n",
              "      <th>mode_NUnfilled</th>\n",
              "      <th>minimum_GSvolume_pa</th>\n",
              "      <th>range_GSvolume_pa</th>\n",
              "      <th>mode_GSvolume_pa</th>\n",
              "      <th>maximum_GSbandgap</th>\n",
              "      <th>avg_dev_GSbandgap</th>\n",
              "      <th>range_GSmagmom</th>\n",
              "      <th>minimum_SpaceGroupNumber</th>\n",
              "      <th>maximum_SpaceGroupNumber</th>\n",
              "      <th>mean_SpaceGroupNumber</th>\n",
              "      <th>range_Column</th>\n",
              "      <th>maximum_NpUnfilled</th>\n",
              "      <th>maximum_NdValence</th>\n",
              "      <th>mode_MendeleevNumber</th>\n",
              "      <th>range_NUnfilled</th>\n",
              "    </tr>\n",
              "  </thead>\n",
              "  <tbody>\n",
              "    <tr>\n",
              "      <th>0</th>\n",
              "      <td>0.161097</td>\n",
              "      <td>1.256140</td>\n",
              "      <td>0.606754</td>\n",
              "      <td>0.532601</td>\n",
              "      <td>0.521256</td>\n",
              "      <td>-0.216360</td>\n",
              "      <td>0.0</td>\n",
              "      <td>0.0</td>\n",
              "      <td>0.18</td>\n",
              "      <td>0.584759</td>\n",
              "      <td>0.717467</td>\n",
              "      <td>1.363636</td>\n",
              "      <td>0.25</td>\n",
              "      <td>0.232362</td>\n",
              "      <td>0.449317</td>\n",
              "      <td>-1.196825</td>\n",
              "      <td>0.000000</td>\n",
              "      <td>0.477222</td>\n",
              "      <td>0.422557</td>\n",
              "      <td>0.000000</td>\n",
              "      <td>-0.304043</td>\n",
              "      <td>0.175303</td>\n",
              "      <td>-0.008391</td>\n",
              "      <td>0.000000</td>\n",
              "      <td>0.000000</td>\n",
              "      <td>0.0</td>\n",
              "      <td>0.190333</td>\n",
              "      <td>1.333333</td>\n",
              "      <td>0.000000</td>\n",
              "      <td>0.000000</td>\n",
              "      <td>0.336801</td>\n",
              "      <td>0.000</td>\n",
              "      <td>0.000000</td>\n",
              "      <td>0.0</td>\n",
              "      <td>0.0</td>\n",
              "      <td>0.0</td>\n",
              "      <td>0.640823</td>\n",
              "      <td>0.000000</td>\n",
              "      <td>0.0</td>\n",
              "      <td>0.0</td>\n",
              "      <td>0.000000</td>\n",
              "      <td>0.0</td>\n",
              "    </tr>\n",
              "    <tr>\n",
              "      <th>1</th>\n",
              "      <td>-0.709468</td>\n",
              "      <td>-0.647368</td>\n",
              "      <td>-0.538152</td>\n",
              "      <td>-0.471801</td>\n",
              "      <td>-0.863198</td>\n",
              "      <td>0.220453</td>\n",
              "      <td>0.0</td>\n",
              "      <td>1.0</td>\n",
              "      <td>-0.42</td>\n",
              "      <td>-0.427776</td>\n",
              "      <td>-1.279471</td>\n",
              "      <td>0.000000</td>\n",
              "      <td>0.05</td>\n",
              "      <td>1.471545</td>\n",
              "      <td>1.916202</td>\n",
              "      <td>-0.110975</td>\n",
              "      <td>0.584963</td>\n",
              "      <td>-0.223215</td>\n",
              "      <td>-0.254527</td>\n",
              "      <td>-0.666667</td>\n",
              "      <td>1.487024</td>\n",
              "      <td>-0.236945</td>\n",
              "      <td>-0.963679</td>\n",
              "      <td>0.560099</td>\n",
              "      <td>-0.333333</td>\n",
              "      <td>-0.5</td>\n",
              "      <td>-0.196263</td>\n",
              "      <td>-0.333333</td>\n",
              "      <td>0.000000</td>\n",
              "      <td>10.948033</td>\n",
              "      <td>-0.030237</td>\n",
              "      <td>0.000</td>\n",
              "      <td>0.000000</td>\n",
              "      <td>0.0</td>\n",
              "      <td>-53.0</td>\n",
              "      <td>0.0</td>\n",
              "      <td>-0.640578</td>\n",
              "      <td>-0.333333</td>\n",
              "      <td>-0.2</td>\n",
              "      <td>1.0</td>\n",
              "      <td>0.666667</td>\n",
              "      <td>-1.0</td>\n",
              "    </tr>\n",
              "    <tr>\n",
              "      <th>2</th>\n",
              "      <td>-0.551801</td>\n",
              "      <td>-0.647368</td>\n",
              "      <td>-0.934202</td>\n",
              "      <td>0.039657</td>\n",
              "      <td>-0.977210</td>\n",
              "      <td>-0.216360</td>\n",
              "      <td>0.0</td>\n",
              "      <td>0.0</td>\n",
              "      <td>-0.70</td>\n",
              "      <td>-0.814217</td>\n",
              "      <td>-1.599888</td>\n",
              "      <td>0.000000</td>\n",
              "      <td>0.00</td>\n",
              "      <td>1.090976</td>\n",
              "      <td>1.916202</td>\n",
              "      <td>1.809577</td>\n",
              "      <td>0.000000</td>\n",
              "      <td>0.026149</td>\n",
              "      <td>0.020301</td>\n",
              "      <td>0.000000</td>\n",
              "      <td>0.584874</td>\n",
              "      <td>-0.225051</td>\n",
              "      <td>-0.802636</td>\n",
              "      <td>0.560099</td>\n",
              "      <td>-0.333333</td>\n",
              "      <td>-0.5</td>\n",
              "      <td>-0.853525</td>\n",
              "      <td>0.000000</td>\n",
              "      <td>0.000000</td>\n",
              "      <td>0.000000</td>\n",
              "      <td>-0.030237</td>\n",
              "      <td>0.000</td>\n",
              "      <td>0.000000</td>\n",
              "      <td>0.0</td>\n",
              "      <td>0.0</td>\n",
              "      <td>0.0</td>\n",
              "      <td>-0.694305</td>\n",
              "      <td>-0.666667</td>\n",
              "      <td>0.0</td>\n",
              "      <td>0.0</td>\n",
              "      <td>0.666667</td>\n",
              "      <td>-1.0</td>\n",
              "    </tr>\n",
              "    <tr>\n",
              "      <th>3</th>\n",
              "      <td>0.428073</td>\n",
              "      <td>2.882456</td>\n",
              "      <td>0.969928</td>\n",
              "      <td>-1.266392</td>\n",
              "      <td>0.594814</td>\n",
              "      <td>-1.406341</td>\n",
              "      <td>-1.0</td>\n",
              "      <td>-15.0</td>\n",
              "      <td>-0.42</td>\n",
              "      <td>1.434420</td>\n",
              "      <td>1.058207</td>\n",
              "      <td>-0.272727</td>\n",
              "      <td>0.64</td>\n",
              "      <td>0.850365</td>\n",
              "      <td>0.000000</td>\n",
              "      <td>0.362050</td>\n",
              "      <td>0.584963</td>\n",
              "      <td>1.529725</td>\n",
              "      <td>1.115875</td>\n",
              "      <td>0.000000</td>\n",
              "      <td>-0.534503</td>\n",
              "      <td>0.775456</td>\n",
              "      <td>0.299071</td>\n",
              "      <td>-1.247204</td>\n",
              "      <td>0.000000</td>\n",
              "      <td>0.0</td>\n",
              "      <td>0.262099</td>\n",
              "      <td>0.000000</td>\n",
              "      <td>-79.249736</td>\n",
              "      <td>4.490789</td>\n",
              "      <td>-0.030237</td>\n",
              "      <td>4.496</td>\n",
              "      <td>0.616735</td>\n",
              "      <td>0.0</td>\n",
              "      <td>0.0</td>\n",
              "      <td>0.0</td>\n",
              "      <td>-0.283342</td>\n",
              "      <td>0.333333</td>\n",
              "      <td>0.0</td>\n",
              "      <td>0.0</td>\n",
              "      <td>0.000000</td>\n",
              "      <td>0.0</td>\n",
              "    </tr>\n",
              "    <tr>\n",
              "      <th>4</th>\n",
              "      <td>0.071655</td>\n",
              "      <td>1.256140</td>\n",
              "      <td>0.363886</td>\n",
              "      <td>0.039657</td>\n",
              "      <td>0.103571</td>\n",
              "      <td>0.140634</td>\n",
              "      <td>0.0</td>\n",
              "      <td>0.0</td>\n",
              "      <td>0.18</td>\n",
              "      <td>0.584759</td>\n",
              "      <td>0.646848</td>\n",
              "      <td>0.000000</td>\n",
              "      <td>0.25</td>\n",
              "      <td>0.820978</td>\n",
              "      <td>0.449317</td>\n",
              "      <td>-0.535416</td>\n",
              "      <td>0.000000</td>\n",
              "      <td>0.161471</td>\n",
              "      <td>0.153797</td>\n",
              "      <td>0.000000</td>\n",
              "      <td>0.067211</td>\n",
              "      <td>0.047385</td>\n",
              "      <td>-0.120768</td>\n",
              "      <td>0.000000</td>\n",
              "      <td>0.000000</td>\n",
              "      <td>0.0</td>\n",
              "      <td>-0.141745</td>\n",
              "      <td>0.000000</td>\n",
              "      <td>0.000000</td>\n",
              "      <td>0.000000</td>\n",
              "      <td>-0.030237</td>\n",
              "      <td>0.000</td>\n",
              "      <td>0.000000</td>\n",
              "      <td>0.0</td>\n",
              "      <td>0.0</td>\n",
              "      <td>0.0</td>\n",
              "      <td>0.269152</td>\n",
              "      <td>0.000000</td>\n",
              "      <td>0.0</td>\n",
              "      <td>0.0</td>\n",
              "      <td>0.000000</td>\n",
              "      <td>0.0</td>\n",
              "    </tr>\n",
              "  </tbody>\n",
              "</table>\n",
              "</div>"
            ],
            "text/plain": [
              "   avg_dev_AtomicWeight  maximum_MeltingT  avg_dev_MeltingT  mode_MeltingT  \\\n",
              "0              0.161097          1.256140          0.606754       0.532601   \n",
              "1             -0.709468         -0.647368         -0.538152      -0.471801   \n",
              "2             -0.551801         -0.647368         -0.934202       0.039657   \n",
              "3              0.428073          2.882456          0.969928      -1.266392   \n",
              "4              0.071655          1.256140          0.363886       0.039657   \n",
              "\n",
              "   avg_dev_Column  mean_Row  mode_Row  minimum_CovalentRadius  \\\n",
              "0        0.521256 -0.216360       0.0                     0.0   \n",
              "1       -0.863198  0.220453       0.0                     1.0   \n",
              "2       -0.977210 -0.216360       0.0                     0.0   \n",
              "3        0.594814 -1.406341      -1.0                   -15.0   \n",
              "4        0.103571  0.140634       0.0                     0.0   \n",
              "\n",
              "   maximum_CovalentRadius  range_CovalentRadius  avg_dev_CovalentRadius  \\\n",
              "0                    0.18              0.584759                0.717467   \n",
              "1                   -0.42             -0.427776               -1.279471   \n",
              "2                   -0.70             -0.814217               -1.599888   \n",
              "3                   -0.42              1.434420                1.058207   \n",
              "4                    0.18              0.584759                0.646848   \n",
              "\n",
              "   mode_CovalentRadius  maximum_Electronegativity  mean_Electronegativity  \\\n",
              "0             1.363636                       0.25                0.232362   \n",
              "1             0.000000                       0.05                1.471545   \n",
              "2             0.000000                       0.00                1.090976   \n",
              "3            -0.272727                       0.64                0.850365   \n",
              "4             0.000000                       0.25                0.820978   \n",
              "\n",
              "   mode_Electronegativity  mean_NsValence  maximum_NpValence  mean_NpValence  \\\n",
              "0                0.449317       -1.196825           0.000000        0.477222   \n",
              "1                1.916202       -0.110975           0.584963       -0.223215   \n",
              "2                1.916202        1.809577           0.000000        0.026149   \n",
              "3                0.000000        0.362050           0.584963        1.529725   \n",
              "4                0.449317       -0.535416           0.000000        0.161471   \n",
              "\n",
              "   avg_dev_NpValence  range_NdValence  mean_NdValence  avg_dev_NdValence  \\\n",
              "0           0.422557         0.000000       -0.304043           0.175303   \n",
              "1          -0.254527        -0.666667        1.487024          -0.236945   \n",
              "2           0.020301         0.000000        0.584874          -0.225051   \n",
              "3           1.115875         0.000000       -0.534503           0.775456   \n",
              "4           0.153797         0.000000        0.067211           0.047385   \n",
              "\n",
              "   avg_dev_NValence  mode_NValence  maximum_NdUnfilled  range_NdUnfilled  \\\n",
              "0         -0.008391       0.000000            0.000000               0.0   \n",
              "1         -0.963679       0.560099           -0.333333              -0.5   \n",
              "2         -0.802636       0.560099           -0.333333              -0.5   \n",
              "3          0.299071      -1.247204            0.000000               0.0   \n",
              "4         -0.120768       0.000000            0.000000               0.0   \n",
              "\n",
              "   avg_dev_NdUnfilled  mode_NUnfilled  minimum_GSvolume_pa  range_GSvolume_pa  \\\n",
              "0            0.190333        1.333333             0.000000           0.000000   \n",
              "1           -0.196263       -0.333333             0.000000          10.948033   \n",
              "2           -0.853525        0.000000             0.000000           0.000000   \n",
              "3            0.262099        0.000000           -79.249736           4.490789   \n",
              "4           -0.141745        0.000000             0.000000           0.000000   \n",
              "\n",
              "   mode_GSvolume_pa  maximum_GSbandgap  avg_dev_GSbandgap  range_GSmagmom  \\\n",
              "0          0.336801              0.000           0.000000             0.0   \n",
              "1         -0.030237              0.000           0.000000             0.0   \n",
              "2         -0.030237              0.000           0.000000             0.0   \n",
              "3         -0.030237              4.496           0.616735             0.0   \n",
              "4         -0.030237              0.000           0.000000             0.0   \n",
              "\n",
              "   minimum_SpaceGroupNumber  maximum_SpaceGroupNumber  mean_SpaceGroupNumber  \\\n",
              "0                       0.0                       0.0               0.640823   \n",
              "1                     -53.0                       0.0              -0.640578   \n",
              "2                       0.0                       0.0              -0.694305   \n",
              "3                       0.0                       0.0              -0.283342   \n",
              "4                       0.0                       0.0               0.269152   \n",
              "\n",
              "   range_Column  maximum_NpUnfilled  maximum_NdValence  mode_MendeleevNumber  \\\n",
              "0      0.000000                 0.0                0.0              0.000000   \n",
              "1     -0.333333                -0.2                1.0              0.666667   \n",
              "2     -0.666667                 0.0                0.0              0.666667   \n",
              "3      0.333333                 0.0                0.0              0.000000   \n",
              "4      0.000000                 0.0                0.0              0.000000   \n",
              "\n",
              "   range_NUnfilled  \n",
              "0              0.0  \n",
              "1             -1.0  \n",
              "2             -1.0  \n",
              "3              0.0  \n",
              "4              0.0  "
            ]
          },
          "execution_count": 10,
          "metadata": {},
          "output_type": "execute_result"
        }
      ],
      "source": [
        "# SCALE FEATURES\n",
        "X = pd.DataFrame(RobustScaler().fit_transform(X), columns=X.columns)\n",
        "X.head()"
      ]
    },
    {
      "cell_type": "code",
      "execution_count": 11,
      "metadata": {
        "id": "MrZJIVBl-PG2"
      },
      "outputs": [],
      "source": [
        "# Label encode y and then to_categorical\n",
        "lb_enc = LabelEncoder()\n",
        "y = lb_enc.fit_transform(y)"
      ]
    },
    {
      "cell_type": "code",
      "execution_count": 12,
      "metadata": {
        "id": "2ilITuTd-PG3"
      },
      "outputs": [
        {
          "data": {
            "text/plain": [
              "['BCC', 'FCC', 'FCC_BCC', 'MIP']"
            ]
          },
          "execution_count": 12,
          "metadata": {},
          "output_type": "execute_result"
        }
      ],
      "source": [
        "labels = list(lb_enc.classes_)\n",
        "labels"
      ]
    },
    {
      "cell_type": "code",
      "execution_count": 13,
      "metadata": {
        "id": "zcf7L3Zg-PG3"
      },
      "outputs": [
        {
          "name": "stdout",
          "output_type": "stream",
          "text": [
            "{'BCC': 0, 'FCC': 1, 'FCC_BCC': 2, 'MIP': 3}\n"
          ]
        }
      ],
      "source": [
        "print(dict(zip(lb_enc.inverse_transform([0, 1, 2, 3]), [0, 1, 2, 3])))"
      ]
    },
    {
      "cell_type": "code",
      "execution_count": 14,
      "metadata": {
        "id": "3BFPPDBk-PG4"
      },
      "outputs": [
        {
          "name": "stdout",
          "output_type": "stream",
          "text": [
            "Shape of training features: (1369, 42)\n",
            "Shape of training labels: (1369,)\n",
            "Shape of test features: (343, 42)\n",
            "Shape of test labels: (343,)\n"
          ]
        }
      ],
      "source": [
        "X_train, X_test, y_train, y_test = train_test_split(X, y, test_size=0.2, random_state=42)\n",
        "print(f\"Shape of training features: {X_train.shape}\")\n",
        "print(f\"Shape of training labels: {y_train.shape}\")\n",
        "print(f\"Shape of test features: {X_test.shape}\")\n",
        "print(f\"Shape of test labels: {y_test.shape}\")"
      ]
    },
    {
      "cell_type": "code",
      "execution_count": 15,
      "metadata": {
        "id": "b18lKwzb7NMP"
      },
      "outputs": [],
      "source": [
        "# DEFINE OBJECTIVE FUNCTION\n",
        "def obj_fn(trial):\n",
        "    # DEFINE PARAMETER SPACE\n",
        "    params = {\n",
        "        \"n_estimators\":     trial.suggest_int(\"n_estimators\", 100, 1100, step=100),\n",
        "        \"learning_rate\":    trial.suggest_float(\"learning_rate\", 0.01, 0.1, log=True),\n",
        "        \"max_depth\":        trial.suggest_int(\"max_depth\", 3, 10),\n",
        "        \"subsample\":        trial.suggest_float(\"subsample\", 0.5, 1.0),\n",
        "        \"colsample_bytree\": trial.suggest_float(\"colsample_bytree\", 0.5, 1.0),\n",
        "        \"booster\":          trial.suggest_categorical(\"booster\", ['dart', 'gbtree', 'gblinear']),\n",
        "        \"reg_alpha\":        trial.suggest_float(\"reg_alpha\", 0, 1),\n",
        "        \"reg_lambda\":       trial.suggest_float(\"reg_lambda\", 0, 5),\n",
        "        \"base_score\":       trial.suggest_float(\"base_score\", 0.1, 1, log=True),\n",
        "        \"gamma\":            trial.suggest_float(\"gamma\", 0.5, 1.0, step=0.1),\n",
        "        \n",
        "    }\n",
        "    # CONSTRUCT MODEL\n",
        "    model = XGBClassifier(**params, device=\"cuda\", random_state=42)\n",
        "    model.fit(X_train, y_train)\n",
        "    y_test_pred = model.predict(X_test)\n",
        "    test_acc = accuracy_score(y_test, y_test_pred)\n",
        "\n",
        "    return test_acc"
      ]
    },
    {
      "cell_type": "code",
      "execution_count": 15,
      "metadata": {
        "id": "kFw-Cz42-PG6"
      },
      "outputs": [
        {
          "name": "stderr",
          "output_type": "stream",
          "text": [
            "[I 2024-10-01 03:54:17,945] A new study created in memory with name: no-name-26520741-effd-4918-83ea-9659070cbde3\n",
            "  0%|          | 0/50 [00:00<?, ?it/s]c:\\Users\\shoha\\AppData\\Local\\Programs\\Python\\Python312\\Lib\\site-packages\\xgboost\\core.py:158: UserWarning: [03:54:18] WARNING: C:\\buildkite-agent\\builds\\buildkite-windows-cpu-autoscaling-group-i-0015a694724fa8361-1\\xgboost\\xgboost-ci-windows\\src\\learner.cc:740: \n",
            "Parameters: { \"colsample_bytree\", \"gamma\", \"max_depth\", \"subsample\" } are not used.\n",
            "\n",
            "  warnings.warn(smsg, UserWarning)\n",
            "Best trial: 0. Best value: 0.466472:   2%|▏         | 1/50 [00:00<00:36,  1.35it/s]c:\\Users\\shoha\\AppData\\Local\\Programs\\Python\\Python312\\Lib\\site-packages\\xgboost\\core.py:158: UserWarning: [03:54:18] WARNING: C:\\buildkite-agent\\builds\\buildkite-windows-cpu-autoscaling-group-i-0015a694724fa8361-1\\xgboost\\xgboost-ci-windows\\src\\learner.cc:740: \n",
            "Parameters: { \"colsample_bytree\", \"gamma\", \"max_depth\", \"subsample\" } are not used.\n",
            "\n",
            "  warnings.warn(smsg, UserWarning)\n"
          ]
        },
        {
          "name": "stdout",
          "output_type": "stream",
          "text": [
            "[I 2024-10-01 03:54:18,685] Trial 0 finished with value: 0.46647230320699706 and parameters: {'n_estimators': 800, 'learning_rate': 0.087218321944043, 'max_depth': 3, 'subsample': 0.819349748386129, 'colsample_bytree': 0.9378421460322415, 'booster': 'gblinear', 'reg_alpha': 0.8005368956914517, 'reg_lambda': 3.607784419968623, 'base_score': 0.8101132068093162, 'gamma': 0.9}. Best is trial 0 with value: 0.46647230320699706.\n"
          ]
        },
        {
          "name": "stderr",
          "output_type": "stream",
          "text": [
            "Best trial: 0. Best value: 0.466472:   4%|▍         | 2/50 [00:00<00:20,  2.39it/s]"
          ]
        },
        {
          "name": "stdout",
          "output_type": "stream",
          "text": [
            "[I 2024-10-01 03:54:18,879] Trial 1 finished with value: 0.39941690962099125 and parameters: {'n_estimators': 300, 'learning_rate': 0.011879662475217649, 'max_depth': 6, 'subsample': 0.9735850839747724, 'colsample_bytree': 0.9242206553088779, 'booster': 'gblinear', 'reg_alpha': 0.9743584474644688, 'reg_lambda': 3.575021776747516, 'base_score': 0.1451654582728413, 'gamma': 0.9}. Best is trial 0 with value: 0.46647230320699706.\n"
          ]
        },
        {
          "name": "stderr",
          "output_type": "stream",
          "text": [
            "c:\\Users\\shoha\\AppData\\Local\\Programs\\Python\\Python312\\Lib\\site-packages\\xgboost\\core.py:158: UserWarning: [03:54:28] WARNING: C:\\buildkite-agent\\builds\\buildkite-windows-cpu-autoscaling-group-i-0015a694724fa8361-1\\xgboost\\xgboost-ci-windows\\src\\common\\error_msg.cc:58: Falling back to prediction using DMatrix due to mismatched devices. This might lead to higher memory usage and slower performance. XGBoost is running on: cuda:0, while the input data is on: cpu.\n",
            "Potential solutions:\n",
            "- Use a data structure that matches the device ordinal in the booster.\n",
            "- Set the device for booster before call to inplace_predict.\n",
            "\n",
            "This warning will only be shown once.\n",
            "\n",
            "  warnings.warn(smsg, UserWarning)\n",
            "Best trial: 2. Best value: 0.848397:   6%|▌         | 3/50 [00:11<03:51,  4.92s/it]"
          ]
        },
        {
          "name": "stdout",
          "output_type": "stream",
          "text": [
            "[I 2024-10-01 03:54:29,165] Trial 2 finished with value: 0.8483965014577259 and parameters: {'n_estimators': 100, 'learning_rate': 0.05453693991636257, 'max_depth': 10, 'subsample': 0.6750441486636795, 'colsample_bytree': 0.9272479625791492, 'booster': 'dart', 'reg_alpha': 0.668033913116916, 'reg_lambda': 4.036077018055043, 'base_score': 0.952324588745238, 'gamma': 0.6}. Best is trial 2 with value: 0.8483965014577259.\n"
          ]
        },
        {
          "name": "stderr",
          "output_type": "stream",
          "text": [
            "Best trial: 3. Best value: 0.857143:   8%|▊         | 4/50 [00:14<03:21,  4.39s/it]"
          ]
        },
        {
          "name": "stdout",
          "output_type": "stream",
          "text": [
            "[I 2024-10-01 03:54:32,731] Trial 3 finished with value: 0.8571428571428571 and parameters: {'n_estimators': 400, 'learning_rate': 0.025400302532218685, 'max_depth': 8, 'subsample': 0.9805988785637061, 'colsample_bytree': 0.5375547839784436, 'booster': 'gbtree', 'reg_alpha': 0.7376153957846875, 'reg_lambda': 1.8417363230207073, 'base_score': 0.2751789895460002, 'gamma': 0.5}. Best is trial 3 with value: 0.8571428571428571.\n"
          ]
        },
        {
          "name": "stderr",
          "output_type": "stream",
          "text": [
            "Best trial: 3. Best value: 0.857143:  10%|█         | 5/50 [05:12<1:22:29, 109.99s/it]c:\\Users\\shoha\\AppData\\Local\\Programs\\Python\\Python312\\Lib\\site-packages\\xgboost\\core.py:158: UserWarning: [03:59:29] WARNING: C:\\buildkite-agent\\builds\\buildkite-windows-cpu-autoscaling-group-i-0015a694724fa8361-1\\xgboost\\xgboost-ci-windows\\src\\learner.cc:740: \n",
            "Parameters: { \"colsample_bytree\", \"gamma\", \"max_depth\", \"subsample\" } are not used.\n",
            "\n",
            "  warnings.warn(smsg, UserWarning)\n"
          ]
        },
        {
          "name": "stdout",
          "output_type": "stream",
          "text": [
            "[I 2024-10-01 03:59:29,969] Trial 4 finished with value: 0.8513119533527697 and parameters: {'n_estimators': 500, 'learning_rate': 0.09977943816487668, 'max_depth': 7, 'subsample': 0.8419954906927715, 'colsample_bytree': 0.5316650853615826, 'booster': 'dart', 'reg_alpha': 0.5840747487487086, 'reg_lambda': 3.1765602350340423, 'base_score': 0.8264145548697338, 'gamma': 1.0}. Best is trial 3 with value: 0.8571428571428571.\n"
          ]
        },
        {
          "name": "stderr",
          "output_type": "stream",
          "text": [
            "Best trial: 3. Best value: 0.857143:  12%|█▏        | 6/50 [05:12<53:23, 72.80s/it]   c:\\Users\\shoha\\AppData\\Local\\Programs\\Python\\Python312\\Lib\\site-packages\\xgboost\\core.py:158: UserWarning: [03:59:30] WARNING: C:\\buildkite-agent\\builds\\buildkite-windows-cpu-autoscaling-group-i-0015a694724fa8361-1\\xgboost\\xgboost-ci-windows\\src\\learner.cc:740: \n",
            "Parameters: { \"colsample_bytree\", \"gamma\", \"max_depth\", \"subsample\" } are not used.\n",
            "\n",
            "  warnings.warn(smsg, UserWarning)\n"
          ]
        },
        {
          "name": "stdout",
          "output_type": "stream",
          "text": [
            "[I 2024-10-01 03:59:30,571] Trial 5 finished with value: 0.46647230320699706 and parameters: {'n_estimators': 800, 'learning_rate': 0.014613556722411495, 'max_depth': 4, 'subsample': 0.5251384511405726, 'colsample_bytree': 0.7227042802885328, 'booster': 'gblinear', 'reg_alpha': 0.7903942345128431, 'reg_lambda': 0.8939069824520457, 'base_score': 0.8674324929502627, 'gamma': 0.8}. Best is trial 3 with value: 0.8571428571428571.\n"
          ]
        },
        {
          "name": "stderr",
          "output_type": "stream",
          "text": [
            "Best trial: 3. Best value: 0.857143:  14%|█▍        | 7/50 [05:13<35:16, 49.21s/it]"
          ]
        },
        {
          "name": "stdout",
          "output_type": "stream",
          "text": [
            "[I 2024-10-01 03:59:31,223] Trial 6 finished with value: 0.39941690962099125 and parameters: {'n_estimators': 800, 'learning_rate': 0.027689402984273907, 'max_depth': 5, 'subsample': 0.9396398820282671, 'colsample_bytree': 0.9000815079156568, 'booster': 'gblinear', 'reg_alpha': 0.9931759941864348, 'reg_lambda': 1.1872621248843802, 'base_score': 0.9877098194983789, 'gamma': 1.0}. Best is trial 3 with value: 0.8571428571428571.\n"
          ]
        },
        {
          "name": "stderr",
          "output_type": "stream",
          "text": [
            "Best trial: 3. Best value: 0.857143:  16%|█▌        | 8/50 [05:16<24:14, 34.64s/it]"
          ]
        },
        {
          "name": "stdout",
          "output_type": "stream",
          "text": [
            "[I 2024-10-01 03:59:34,658] Trial 7 finished with value: 0.8513119533527697 and parameters: {'n_estimators': 300, 'learning_rate': 0.012093090964602218, 'max_depth': 6, 'subsample': 0.7303067546651449, 'colsample_bytree': 0.5811326913056003, 'booster': 'gbtree', 'reg_alpha': 0.8504849602385907, 'reg_lambda': 1.3685728989602164, 'base_score': 0.27975480679122183, 'gamma': 0.8}. Best is trial 3 with value: 0.8571428571428571.\n"
          ]
        },
        {
          "name": "stderr",
          "output_type": "stream",
          "text": [
            "Best trial: 3. Best value: 0.857143:  18%|█▊        | 9/50 [05:22<17:31, 25.64s/it]"
          ]
        },
        {
          "name": "stdout",
          "output_type": "stream",
          "text": [
            "[I 2024-10-01 03:59:40,518] Trial 8 finished with value: 0.8542274052478134 and parameters: {'n_estimators': 500, 'learning_rate': 0.01257057844777905, 'max_depth': 9, 'subsample': 0.6039306159733332, 'colsample_bytree': 0.5039049321704199, 'booster': 'gbtree', 'reg_alpha': 0.01719419746485873, 'reg_lambda': 0.712629766077772, 'base_score': 0.29503438148867134, 'gamma': 0.9}. Best is trial 3 with value: 0.8571428571428571.\n"
          ]
        },
        {
          "name": "stderr",
          "output_type": "stream",
          "text": [
            "Best trial: 3. Best value: 0.857143:  20%|██        | 10/50 [07:16<35:16, 52.90s/it]"
          ]
        },
        {
          "name": "stdout",
          "output_type": "stream",
          "text": [
            "[I 2024-10-01 04:01:34,466] Trial 9 finished with value: 0.8542274052478134 and parameters: {'n_estimators': 300, 'learning_rate': 0.03417959883460274, 'max_depth': 9, 'subsample': 0.689064255257898, 'colsample_bytree': 0.9375470642255415, 'booster': 'dart', 'reg_alpha': 0.015167646091957754, 'reg_lambda': 3.6371847422875265, 'base_score': 0.10848541751070975, 'gamma': 0.8}. Best is trial 3 with value: 0.8571428571428571.\n"
          ]
        },
        {
          "name": "stderr",
          "output_type": "stream",
          "text": [
            "Best trial: 10. Best value: 0.87172:  22%|██▏       | 11/50 [07:23<25:19, 38.95s/it]"
          ]
        },
        {
          "name": "stdout",
          "output_type": "stream",
          "text": [
            "[I 2024-10-01 04:01:41,784] Trial 10 finished with value: 0.8717201166180758 and parameters: {'n_estimators': 1000, 'learning_rate': 0.023122603207097376, 'max_depth': 8, 'subsample': 0.8748856806971467, 'colsample_bytree': 0.6585957786850217, 'booster': 'gbtree', 'reg_alpha': 0.2982699063435083, 'reg_lambda': 2.2039542598781883, 'base_score': 0.4724960714308555, 'gamma': 0.5}. Best is trial 10 with value: 0.8717201166180758.\n"
          ]
        },
        {
          "name": "stderr",
          "output_type": "stream",
          "text": [
            "Best trial: 11. Best value: 0.874636:  24%|██▍       | 12/50 [07:31<18:35, 29.36s/it]"
          ]
        },
        {
          "name": "stdout",
          "output_type": "stream",
          "text": [
            "[I 2024-10-01 04:01:49,209] Trial 11 finished with value: 0.8746355685131195 and parameters: {'n_estimators': 1100, 'learning_rate': 0.023884463547364412, 'max_depth': 8, 'subsample': 0.8870767418965113, 'colsample_bytree': 0.6487913508163682, 'booster': 'gbtree', 'reg_alpha': 0.3532011297684418, 'reg_lambda': 2.1645224833237244, 'base_score': 0.46897364490677806, 'gamma': 0.5}. Best is trial 11 with value: 0.8746355685131195.\n"
          ]
        },
        {
          "name": "stderr",
          "output_type": "stream",
          "text": [
            "Best trial: 11. Best value: 0.874636:  26%|██▌       | 13/50 [07:38<13:57, 22.64s/it]"
          ]
        },
        {
          "name": "stdout",
          "output_type": "stream",
          "text": [
            "[I 2024-10-01 04:01:56,371] Trial 12 finished with value: 0.8717201166180758 and parameters: {'n_estimators': 1100, 'learning_rate': 0.02010384980333216, 'max_depth': 8, 'subsample': 0.8741977937138653, 'colsample_bytree': 0.6537695961808461, 'booster': 'gbtree', 'reg_alpha': 0.3639464984251667, 'reg_lambda': 2.594681842156873, 'base_score': 0.4913698802187557, 'gamma': 0.5}. Best is trial 11 with value: 0.8746355685131195.\n"
          ]
        },
        {
          "name": "stderr",
          "output_type": "stream",
          "text": [
            "Best trial: 11. Best value: 0.874636:  28%|██▊       | 14/50 [07:44<10:34, 17.62s/it]"
          ]
        },
        {
          "name": "stdout",
          "output_type": "stream",
          "text": [
            "[I 2024-10-01 04:02:02,384] Trial 13 finished with value: 0.8658892128279884 and parameters: {'n_estimators': 1100, 'learning_rate': 0.04183427159203035, 'max_depth': 7, 'subsample': 0.7992627318799894, 'colsample_bytree': 0.8171490954094749, 'booster': 'gbtree', 'reg_alpha': 0.32245604085031476, 'reg_lambda': 4.895804276708614, 'base_score': 0.49881647204341056, 'gamma': 0.6}. Best is trial 11 with value: 0.8746355685131195.\n"
          ]
        },
        {
          "name": "stderr",
          "output_type": "stream",
          "text": [
            "Best trial: 11. Best value: 0.874636:  30%|███       | 15/50 [07:51<08:22, 14.35s/it]"
          ]
        },
        {
          "name": "stdout",
          "output_type": "stream",
          "text": [
            "[I 2024-10-01 04:02:09,160] Trial 14 finished with value: 0.8658892128279884 and parameters: {'n_estimators': 1000, 'learning_rate': 0.01831463939966794, 'max_depth': 10, 'subsample': 0.8931363982718781, 'colsample_bytree': 0.6729236921225241, 'booster': 'gbtree', 'reg_alpha': 0.244351876262887, 'reg_lambda': 0.061208943014059436, 'base_score': 0.48187209117455926, 'gamma': 0.6}. Best is trial 11 with value: 0.8746355685131195.\n"
          ]
        },
        {
          "name": "stderr",
          "output_type": "stream",
          "text": [
            "Best trial: 11. Best value: 0.874636:  32%|███▏      | 16/50 [07:57<06:44, 11.89s/it]"
          ]
        },
        {
          "name": "stdout",
          "output_type": "stream",
          "text": [
            "[I 2024-10-01 04:02:15,347] Trial 15 finished with value: 0.8658892128279884 and parameters: {'n_estimators': 900, 'learning_rate': 0.020402328291466827, 'max_depth': 8, 'subsample': 0.9160358252991776, 'colsample_bytree': 0.7834522143492324, 'booster': 'gbtree', 'reg_alpha': 0.4411654173762195, 'reg_lambda': 2.198666140933618, 'base_score': 0.38636031670130605, 'gamma': 0.5}. Best is trial 11 with value: 0.8746355685131195.\n"
          ]
        },
        {
          "name": "stderr",
          "output_type": "stream",
          "text": [
            "Best trial: 11. Best value: 0.874636:  34%|███▍      | 17/50 [08:01<05:16,  9.59s/it]"
          ]
        },
        {
          "name": "stdout",
          "output_type": "stream",
          "text": [
            "[I 2024-10-01 04:02:19,599] Trial 16 finished with value: 0.8629737609329446 and parameters: {'n_estimators': 700, 'learning_rate': 0.045438518751820284, 'max_depth': 9, 'subsample': 0.7630638202257178, 'colsample_bytree': 0.6324171710264083, 'booster': 'gbtree', 'reg_alpha': 0.172594155755525, 'reg_lambda': 2.8032045741423084, 'base_score': 0.18362883984715672, 'gamma': 0.7}. Best is trial 11 with value: 0.8746355685131195.\n"
          ]
        },
        {
          "name": "stderr",
          "output_type": "stream",
          "text": [
            "Best trial: 11. Best value: 0.874636:  36%|███▌      | 18/50 [08:06<04:17,  8.05s/it]"
          ]
        },
        {
          "name": "stdout",
          "output_type": "stream",
          "text": [
            "[I 2024-10-01 04:02:24,062] Trial 17 finished with value: 0.8658892128279884 and parameters: {'n_estimators': 1000, 'learning_rate': 0.06595298957539353, 'max_depth': 7, 'subsample': 0.864016563780979, 'colsample_bytree': 0.7163280300231206, 'booster': 'gbtree', 'reg_alpha': 0.5077961083075359, 'reg_lambda': 1.8855816717093616, 'base_score': 0.5871229769342019, 'gamma': 0.7}. Best is trial 11 with value: 0.8746355685131195.\n"
          ]
        },
        {
          "name": "stderr",
          "output_type": "stream",
          "text": [
            "Best trial: 18. Best value: 0.877551:  38%|███▊      | 19/50 [08:11<03:47,  7.35s/it]"
          ]
        },
        {
          "name": "stdout",
          "output_type": "stream",
          "text": [
            "[I 2024-10-01 04:02:29,791] Trial 18 finished with value: 0.8775510204081632 and parameters: {'n_estimators': 1000, 'learning_rate': 0.032902887706280415, 'max_depth': 5, 'subsample': 0.7756065577301237, 'colsample_bytree': 0.5966484698612133, 'booster': 'gbtree', 'reg_alpha': 0.15967969580737595, 'reg_lambda': 1.7304891694168458, 'base_score': 0.6588637336226814, 'gamma': 0.6}. Best is trial 18 with value: 0.8775510204081632.\n"
          ]
        },
        {
          "name": "stderr",
          "output_type": "stream",
          "text": [
            "Best trial: 18. Best value: 0.877551:  40%|████      | 20/50 [46:46<5:50:03, 700.12s/it]"
          ]
        },
        {
          "name": "stdout",
          "output_type": "stream",
          "text": [
            "[I 2024-10-01 04:41:04,493] Trial 19 finished with value: 0.8746355685131195 and parameters: {'n_estimators': 1100, 'learning_rate': 0.03376822079249425, 'max_depth': 5, 'subsample': 0.6235351530262347, 'colsample_bytree': 0.6130027887303, 'booster': 'dart', 'reg_alpha': 0.13575063749134397, 'reg_lambda': 1.7071526784470588, 'base_score': 0.626664025203514, 'gamma': 0.6}. Best is trial 18 with value: 0.8775510204081632.\n"
          ]
        },
        {
          "name": "stderr",
          "output_type": "stream",
          "text": [
            "Best trial: 18. Best value: 0.877551:  42%|████▏     | 21/50 [47:44<4:05:11, 507.28s/it]"
          ]
        },
        {
          "name": "stdout",
          "output_type": "stream",
          "text": [
            "[I 2024-10-01 04:42:02,182] Trial 20 finished with value: 0.8571428571428571 and parameters: {'n_estimators': 900, 'learning_rate': 0.01648035544121736, 'max_depth': 3, 'subsample': 0.7891031088997028, 'colsample_bytree': 0.5785790164233776, 'booster': 'gbtree', 'reg_alpha': 0.19134623199598372, 'reg_lambda': 0.34093941947173523, 'base_score': 0.3728775307592303, 'gamma': 0.7}. Best is trial 18 with value: 0.8775510204081632.\n"
          ]
        },
        {
          "name": "stderr",
          "output_type": "stream",
          "text": [
            "Best trial: 18. Best value: 0.877551:  44%|████▍     | 22/50 [1:54:47<12:09:06, 1562.38s/it]"
          ]
        },
        {
          "name": "stdout",
          "output_type": "stream",
          "text": [
            "[I 2024-10-01 05:49:05,064] Trial 21 finished with value: 0.8775510204081632 and parameters: {'n_estimators': 1100, 'learning_rate': 0.034394466028388394, 'max_depth': 5, 'subsample': 0.6090382100809112, 'colsample_bytree': 0.5982328171975221, 'booster': 'dart', 'reg_alpha': 0.16096043018805353, 'reg_lambda': 1.4635258795765873, 'base_score': 0.6463153134653234, 'gamma': 0.6}. Best is trial 18 with value: 0.8775510204081632.\n"
          ]
        }
      ],
      "source": [
        "# PERFORM BAYESIAN OPTIMIZATION\n",
        "tpe = optuna.samplers.TPESampler()\n",
        "study = optuna.create_study(direction=\"maximize\", sampler=tpe)\n",
        "study.optimize(obj_fn, n_trials=50, show_progress_bar=True)"
      ]
    },
    {
      "cell_type": "code",
      "execution_count": 16,
      "metadata": {
        "id": "iwu0g3jrAFVB"
      },
      "outputs": [
        {
          "data": {
            "text/plain": [
              "{'n_estimators': 500,\n",
              " 'learning_rate': 0.09482522378166337,\n",
              " 'max_depth': 6,\n",
              " 'subsample': 0.8264915876833466,\n",
              " 'colsample_bytree': 0.5191166881321312,\n",
              " 'booster': 'gbtree',\n",
              " 'reg_alpha': 0.36193430376388297,\n",
              " 'reg_lambda': 0.03174570819448254,\n",
              " 'base_score': 0.1603758415920753,\n",
              " 'gamma': 0.6}"
            ]
          },
          "execution_count": 16,
          "metadata": {},
          "output_type": "execute_result"
        }
      ],
      "source": [
        "best_model_params = study.best_params\n",
        "best_model_params"
      ]
    },
    {
      "cell_type": "code",
      "execution_count": 17,
      "metadata": {
        "id": "inPc_CZT-PG6"
      },
      "outputs": [
        {
          "name": "stdout",
          "output_type": "stream",
          "text": [
            "Classification Report on Training Data\n",
            "--------------------------------------------------------------------------------\n",
            "              precision    recall  f1-score   support\n",
            "\n",
            "         BCC     0.9262    0.9631    0.9443       352\n",
            "         FCC     0.9673    0.9644    0.9658       337\n",
            "     FCC_BCC     0.9543    0.9795    0.9667       341\n",
            "         MIP     0.9685    0.9056    0.9360       339\n",
            "\n",
            "    accuracy                         0.9533      1369\n",
            "   macro avg     0.9541    0.9531    0.9532      1369\n",
            "weighted avg     0.9538    0.9533    0.9531      1369\n",
            "\n",
            "Classification Report on Test Data\n",
            "--------------------------------------------------------------------------------\n",
            "              precision    recall  f1-score   support\n",
            "\n",
            "         BCC     0.9315    0.8947    0.9128        76\n",
            "         FCC     0.8901    0.8901    0.8901        91\n",
            "     FCC_BCC     0.8830    0.9540    0.9171        87\n",
            "         MIP     0.8471    0.8090    0.8276        89\n",
            "\n",
            "    accuracy                         0.8863       343\n",
            "   macro avg     0.8879    0.8870    0.8869       343\n",
            "weighted avg     0.8863    0.8863    0.8858       343\n",
            "\n",
            "--------------------------------------------------------------------------------\n",
            "ROC-AUC SCORE:  97.0975 %\n"
          ]
        }
      ],
      "source": [
        "# BUILD MODEL USING BEST PARAMETERS AND EVALUATE\n",
        "best_model = XGBClassifier(**best_model_params, device=\"cuda\", random_state=42)\n",
        "best_model.fit(X_train, y_train)\n",
        "y_train_pred = best_model.predict(X_train)\n",
        "y_test_pred = best_model.predict(X_test)\n",
        "\n",
        "# CLASSIFICATION REPORT\n",
        "print(\"Classification Report on Training Data\")\n",
        "print(\"-\"*80)\n",
        "print(classification_report(y_train, y_train_pred, target_names=labels, digits=4))\n",
        "\n",
        "print(\"Classification Report on Test Data\")\n",
        "print(\"-\"*80)\n",
        "print(classification_report(y_test, y_test_pred, target_names=labels, digits=4))\n",
        "\n",
        "# EVALUATE ROC-AUC SCORE\n",
        "pred_proba = best_model.predict_proba(X_test)\n",
        "roc_auc = roc_auc_score(y_test, pred_proba, multi_class='ovr')\n",
        "print(\"-\"*80)\n",
        "print(f\"ROC-AUC SCORE: {roc_auc*100: .4f} %\")"
      ]
    },
    {
      "cell_type": "code",
      "execution_count": 18,
      "metadata": {
        "id": "7Qc8mg_G-PG7"
      },
      "outputs": [
        {
          "data": {
            "image/png": "[encoded data removed]",
            "text/plain": [
              "<Figure size 600x600 with 1 Axes>"
            ]
          },
          "metadata": {},
          "output_type": "display_data"
        }
      ],
      "source": [
        "# PLOT ROC CURVE\n",
        "fig, ax = plt.subplots(figsize=(6, 6))\n",
        "y_test_oh = to_categorical(y_test)\n",
        "colors = cycle([\"red\", \"green\", \"blue\", \"orange\"])\n",
        "for class_id, color in zip(range(4), colors):\n",
        "    RocCurveDisplay.from_predictions(\n",
        "        y_test_oh[:, class_id],\n",
        "        pred_proba[:, class_id],\n",
        "        name=f\"ROC curve for {labels[class_id]}\",\n",
        "        color=color,\n",
        "        ax=ax,\n",
        "    )\n",
        "ax.plot([0, 1], [0, 1], 'k--', lw=2)\n",
        "ax.legend(loc='lower right', fontsize='10')\n",
        "plt.title(\"ROC for each classes\")\n",
        "plt.savefig(pwd+\"/figures/xgb_roc_curve.png\", dpi=600, bbox_inches=\"tight\")"
      ]
    },
    {
      "cell_type": "code",
      "execution_count": 19,
      "metadata": {
        "id": "fK9CJZeM-PG7"
      },
      "outputs": [
        {
          "data": {
            "image/png": "[encoded data removed]",
            "text/plain": [
              "<Figure size 1500x500 with 4 Axes>"
            ]
          },
          "metadata": {},
          "output_type": "display_data"
        }
      ],
      "source": [
        "# CONFUSION MATRIX\n",
        "cm_train = confusion_matrix(y_train, y_train_pred)\n",
        "cm_test = confusion_matrix(y_test, y_test_pred)\n",
        "f,(ax1, ax2) = plt.subplots(1,2, figsize = (15,5))\n",
        "disp_train = ConfusionMatrixDisplay(confusion_matrix=cm_train, display_labels=labels)\n",
        "disp_test = ConfusionMatrixDisplay(confusion_matrix=cm_test, display_labels=labels)\n",
        "disp_train.plot(ax = ax1)\n",
        "disp_test.plot(ax = ax2)\n",
        "ax1.set_title('Training Set')\n",
        "ax2.set_title('Testing Set')\n",
        "ax1.grid(False)\n",
        "ax2.grid(False)\n",
        "plt.suptitle('Train and Test Confusion Matrix')\n",
        "plt.savefig(pwd+\"/figures/xgb_cf.png\", dpi=600, bbox_inches=\"tight\")\n",
        "\n",
        "# ACCURACY PER CLASS\n",
        "acc_class_train = cm_train.diagonal() / cm_train.sum(axis=1)\n",
        "acc_class_test = cm_test.diagonal() / cm_test.sum(axis=1)\n",
        "\n",
        "print(\"Training accuracy per class:\", acc_class_train)\n",
        "print(\"Testing accuracy per class:\", acc_class_test)"
      ]
    },
    {
      "cell_type": "code",
      "execution_count": 20,
      "metadata": {
        "id": "B2IN6imd-PG8"
      },
      "outputs": [
        {
          "name": "stdout",
          "output_type": "stream",
          "text": [
            "Cross Validation Score\n",
            "--------------------------------------------------\n",
            "Mean Accuracy:  86.8571 % \n",
            "Standard Deviation: (+/-) 2.2830 %\n",
            "--------------------------------------------------\n"
          ]
        }
      ],
      "source": [
        "# 10 FOLD CROSS VALIDATION\n",
        "kfold = StratifiedKFold(n_splits=10, shuffle=True, random_state=42)\n",
        "cv_scores = []\n",
        "\n",
        "for train_idx, test_idx in kfold.split(X, y):\n",
        "    X_train_cv, y_train_cv = X.iloc[train_idx], y[train_idx]\n",
        "    X_test_cv, y_test_cv = X.iloc[test_idx], y[test_idx]\n",
        "    best_model.fit(X_train_cv, y_train_cv)\n",
        "    y_test_pred_cv = best_model.predict(X_test_cv)\n",
        "    score = accuracy_score(y_test_cv, y_test_pred_cv)\n",
        "    cv_scores.append(score*100)\n",
        "\n",
        "print(\"Cross Validation Score\")\n",
        "print(\"-\"*50)\n",
        "print(f\"Mean Accuracy: {np.mean(cv_scores): .4f} % \\nStandard Deviation: (+/-){np.std(cv_scores): .4f} %\")\n",
        "print(\"-\"*50)"
      ]
    }
  ],
  "metadata": {
    "colab": {
      "provenance": []
    },
    "kernelspec": {
      "display_name": "Python 3",
      "name": "python3"
    },
    "language_info": {
      "codemirror_mode": {
        "name": "ipython",
        "version": 3
      },
      "file_extension": ".py",
      "mimetype": "text/x-python",
      "name": "python",
      "nbconvert_exporter": "python",
      "pygments_lexer": "ipython3",
      "version": "3.12.3"
    }
  },
  "nbformat": 4,
  "nbformat_minor": 0
}
