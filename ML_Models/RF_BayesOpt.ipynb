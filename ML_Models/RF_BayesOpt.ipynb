{
  "cells": [
    {
      "cell_type": "code",
      "execution_count": 1,
      "metadata": {
        "id": "Tf3RuPVe-PGs"
      },
      "outputs": [
        {
          "name": "stderr",
          "output_type": "stream",
          "text": [
            "c:\\Users\\shoha\\AppData\\Local\\Programs\\Python\\Python312\\Lib\\site-packages\\tqdm\\auto.py:21: TqdmWarning: IProgress not found. Please update jupyter and ipywidgets. See https://ipywidgets.readthedocs.io/en/stable/user_install.html\n",
            "  from .autonotebook import tqdm as notebook_tqdm\n"
          ]
        }
      ],
      "source": [
        "import numpy as np\n",
        "import pandas as pd\n",
        "pd.set_option(\"display.max_columns\", None)\n",
        "import matplotlib.pyplot as plt\n",
        "import seaborn as sns\n",
        "sns.set_theme()\n",
        "import os\n",
        "from itertools import cycle\n",
        "\n",
        "from sklearn.model_selection import train_test_split, StratifiedKFold\n",
        "from sklearn.ensemble import RandomForestClassifier\n",
        "from sklearn.metrics import accuracy_score, roc_auc_score, classification_report, RocCurveDisplay, confusion_matrix, ConfusionMatrixDisplay\n",
        "from sklearn.preprocessing import RobustScaler, LabelEncoder\n",
        "from tensorflow.keras.utils import to_categorical\n",
        "\n",
        "import optuna"
      ]
    },
    {
      "cell_type": "code",
      "execution_count": 2,
      "metadata": {
        "id": "6kz-yjib-PGw"
      },
      "outputs": [
        {
          "data": {
            "text/plain": [
              "'d:\\\\Research Projects\\\\HEA\\\\Featurize_New_Alloys\\\\HEA'"
            ]
          },
          "execution_count": 2,
          "metadata": {},
          "output_type": "execute_result"
        }
      ],
      "source": [
        "pwd = os.getcwd()\n",
        "pwd"
      ]
    },
    {
      "cell_type": "code",
      "execution_count": 3,
      "metadata": {
        "id": "HS4EracF-PGy"
      },
      "outputs": [
        {
          "name": "stdout",
          "output_type": "stream",
          "text": [
            "Shape of Dataframe:  (1167, 44)\n"
          ]
        },
        {
          "data": {
            "text/html": [
              "<div>\n",
              "<style scoped>\n",
              "    .dataframe tbody tr th:only-of-type {\n",
              "        vertical-align: middle;\n",
              "    }\n",
              "\n",
              "    .dataframe tbody tr th {\n",
              "        vertical-align: top;\n",
              "    }\n",
              "\n",
              "    .dataframe thead th {\n",
              "        text-align: right;\n",
              "    }\n",
              "</style>\n",
              "<table border=\"1\" class=\"dataframe\">\n",
              "  <thead>\n",
              "    <tr style=\"text-align: right;\">\n",
              "      <th></th>\n",
              "      <th>Alloy</th>\n",
              "      <th>avg_dev_AtomicWeight</th>\n",
              "      <th>maximum_MeltingT</th>\n",
              "      <th>avg_dev_MeltingT</th>\n",
              "      <th>mode_MeltingT</th>\n",
              "      <th>avg_dev_Column</th>\n",
              "      <th>mean_Row</th>\n",
              "      <th>mode_Row</th>\n",
              "      <th>minimum_CovalentRadius</th>\n",
              "      <th>maximum_CovalentRadius</th>\n",
              "      <th>range_CovalentRadius</th>\n",
              "      <th>avg_dev_CovalentRadius</th>\n",
              "      <th>mode_CovalentRadius</th>\n",
              "      <th>maximum_Electronegativity</th>\n",
              "      <th>mean_Electronegativity</th>\n",
              "      <th>mode_Electronegativity</th>\n",
              "      <th>mean_NsValence</th>\n",
              "      <th>maximum_NpValence</th>\n",
              "      <th>mean_NpValence</th>\n",
              "      <th>avg_dev_NpValence</th>\n",
              "      <th>range_NdValence</th>\n",
              "      <th>mean_NdValence</th>\n",
              "      <th>avg_dev_NdValence</th>\n",
              "      <th>avg_dev_NValence</th>\n",
              "      <th>mode_NValence</th>\n",
              "      <th>maximum_NdUnfilled</th>\n",
              "      <th>range_NdUnfilled</th>\n",
              "      <th>avg_dev_NdUnfilled</th>\n",
              "      <th>mode_NUnfilled</th>\n",
              "      <th>minimum_GSvolume_pa</th>\n",
              "      <th>range_GSvolume_pa</th>\n",
              "      <th>mode_GSvolume_pa</th>\n",
              "      <th>maximum_GSbandgap</th>\n",
              "      <th>avg_dev_GSbandgap</th>\n",
              "      <th>range_GSmagmom</th>\n",
              "      <th>minimum_SpaceGroupNumber</th>\n",
              "      <th>maximum_SpaceGroupNumber</th>\n",
              "      <th>mean_SpaceGroupNumber</th>\n",
              "      <th>range_Column</th>\n",
              "      <th>maximum_NpUnfilled</th>\n",
              "      <th>maximum_NdValence</th>\n",
              "      <th>mode_MendeleevNumber</th>\n",
              "      <th>range_NUnfilled</th>\n",
              "      <th>Phase</th>\n",
              "    </tr>\n",
              "  </thead>\n",
              "  <tbody>\n",
              "    <tr>\n",
              "      <th>0</th>\n",
              "      <td>Al0.5NbTaTiV</td>\n",
              "      <td>3.838070</td>\n",
              "      <td>3290.0</td>\n",
              "      <td>584.546173</td>\n",
              "      <td>7.571474</td>\n",
              "      <td>0.966843</td>\n",
              "      <td>4.555556</td>\n",
              "      <td>4</td>\n",
              "      <td>121</td>\n",
              "      <td>170</td>\n",
              "      <td>3.912023</td>\n",
              "      <td>2.391138</td>\n",
              "      <td>153</td>\n",
              "      <td>1.63</td>\n",
              "      <td>1.572222</td>\n",
              "      <td>0.916291</td>\n",
              "      <td>1.777778</td>\n",
              "      <td>0.693147</td>\n",
              "      <td>0.111111</td>\n",
              "      <td>0.180262</td>\n",
              "      <td>4</td>\n",
              "      <td>2.666667</td>\n",
              "      <td>0.635989</td>\n",
              "      <td>1.797913</td>\n",
              "      <td>1.609438</td>\n",
              "      <td>8</td>\n",
              "      <td>8</td>\n",
              "      <td>0.908856</td>\n",
              "      <td>7</td>\n",
              "      <td>2.639771</td>\n",
              "      <td>1.819699</td>\n",
              "      <td>2.639771</td>\n",
              "      <td>0.0</td>\n",
              "      <td>0.0</td>\n",
              "      <td>0.000023</td>\n",
              "      <td>194</td>\n",
              "      <td>229</td>\n",
              "      <td>220.777778</td>\n",
              "      <td>9</td>\n",
              "      <td>5</td>\n",
              "      <td>4</td>\n",
              "      <td>43</td>\n",
              "      <td>3</td>\n",
              "      <td>BCC</td>\n",
              "    </tr>\n",
              "    <tr>\n",
              "      <th>1</th>\n",
              "      <td>Al0.75MoNbTiV</td>\n",
              "      <td>3.255577</td>\n",
              "      <td>2896.0</td>\n",
              "      <td>521.067701</td>\n",
              "      <td>7.571474</td>\n",
              "      <td>1.140210</td>\n",
              "      <td>4.263158</td>\n",
              "      <td>4</td>\n",
              "      <td>121</td>\n",
              "      <td>164</td>\n",
              "      <td>3.784190</td>\n",
              "      <td>2.377029</td>\n",
              "      <td>153</td>\n",
              "      <td>2.16</td>\n",
              "      <td>1.713158</td>\n",
              "      <td>0.932164</td>\n",
              "      <td>1.578947</td>\n",
              "      <td>0.693147</td>\n",
              "      <td>0.157895</td>\n",
              "      <td>0.235805</td>\n",
              "      <td>5</td>\n",
              "      <td>2.947368</td>\n",
              "      <td>0.845714</td>\n",
              "      <td>0.598806</td>\n",
              "      <td>1.609438</td>\n",
              "      <td>8</td>\n",
              "      <td>8</td>\n",
              "      <td>1.074312</td>\n",
              "      <td>6</td>\n",
              "      <td>2.639771</td>\n",
              "      <td>1.819699</td>\n",
              "      <td>2.639771</td>\n",
              "      <td>0.0</td>\n",
              "      <td>0.0</td>\n",
              "      <td>0.000023</td>\n",
              "      <td>194</td>\n",
              "      <td>229</td>\n",
              "      <td>221.000000</td>\n",
              "      <td>9</td>\n",
              "      <td>5</td>\n",
              "      <td>5</td>\n",
              "      <td>43</td>\n",
              "      <td>3</td>\n",
              "      <td>BCC</td>\n",
              "    </tr>\n",
              "    <tr>\n",
              "      <th>2</th>\n",
              "      <td>Al0.25MoNbTiV</td>\n",
              "      <td>3.205911</td>\n",
              "      <td>2896.0</td>\n",
              "      <td>441.662561</td>\n",
              "      <td>7.571474</td>\n",
              "      <td>0.758442</td>\n",
              "      <td>4.411765</td>\n",
              "      <td>4</td>\n",
              "      <td>121</td>\n",
              "      <td>164</td>\n",
              "      <td>3.784190</td>\n",
              "      <td>1.950841</td>\n",
              "      <td>153</td>\n",
              "      <td>2.16</td>\n",
              "      <td>1.725294</td>\n",
              "      <td>0.932164</td>\n",
              "      <td>1.529412</td>\n",
              "      <td>0.693147</td>\n",
              "      <td>0.058824</td>\n",
              "      <td>0.105014</td>\n",
              "      <td>5</td>\n",
              "      <td>3.294118</td>\n",
              "      <td>0.758442</td>\n",
              "      <td>0.492669</td>\n",
              "      <td>1.609438</td>\n",
              "      <td>8</td>\n",
              "      <td>8</td>\n",
              "      <td>0.833360</td>\n",
              "      <td>6</td>\n",
              "      <td>2.639771</td>\n",
              "      <td>1.819699</td>\n",
              "      <td>2.639771</td>\n",
              "      <td>0.0</td>\n",
              "      <td>0.0</td>\n",
              "      <td>0.000023</td>\n",
              "      <td>194</td>\n",
              "      <td>229</td>\n",
              "      <td>220.529412</td>\n",
              "      <td>9</td>\n",
              "      <td>5</td>\n",
              "      <td>5</td>\n",
              "      <td>43</td>\n",
              "      <td>3</td>\n",
              "      <td>BCC</td>\n",
              "    </tr>\n",
              "    <tr>\n",
              "      <th>3</th>\n",
              "      <td>Al0.25NbTaTiV</td>\n",
              "      <td>3.825406</td>\n",
              "      <td>3290.0</td>\n",
              "      <td>539.821730</td>\n",
              "      <td>7.571474</td>\n",
              "      <td>0.648931</td>\n",
              "      <td>4.647059</td>\n",
              "      <td>4</td>\n",
              "      <td>121</td>\n",
              "      <td>170</td>\n",
              "      <td>3.912023</td>\n",
              "      <td>2.140270</td>\n",
              "      <td>153</td>\n",
              "      <td>1.63</td>\n",
              "      <td>1.570000</td>\n",
              "      <td>0.916291</td>\n",
              "      <td>1.764706</td>\n",
              "      <td>0.693147</td>\n",
              "      <td>0.058824</td>\n",
              "      <td>0.105014</td>\n",
              "      <td>4</td>\n",
              "      <td>2.823529</td>\n",
              "      <td>0.542163</td>\n",
              "      <td>1.825219</td>\n",
              "      <td>1.609438</td>\n",
              "      <td>8</td>\n",
              "      <td>8</td>\n",
              "      <td>0.718768</td>\n",
              "      <td>7</td>\n",
              "      <td>2.639771</td>\n",
              "      <td>1.819699</td>\n",
              "      <td>2.639771</td>\n",
              "      <td>0.0</td>\n",
              "      <td>0.0</td>\n",
              "      <td>0.000023</td>\n",
              "      <td>194</td>\n",
              "      <td>229</td>\n",
              "      <td>220.529412</td>\n",
              "      <td>9</td>\n",
              "      <td>5</td>\n",
              "      <td>4</td>\n",
              "      <td>43</td>\n",
              "      <td>3</td>\n",
              "      <td>BCC</td>\n",
              "    </tr>\n",
              "    <tr>\n",
              "      <th>4</th>\n",
              "      <td>Al0.2MoTaTiV</td>\n",
              "      <td>3.838178</td>\n",
              "      <td>3290.0</td>\n",
              "      <td>565.511565</td>\n",
              "      <td>7.571474</td>\n",
              "      <td>0.703300</td>\n",
              "      <td>4.666667</td>\n",
              "      <td>4</td>\n",
              "      <td>121</td>\n",
              "      <td>170</td>\n",
              "      <td>3.912023</td>\n",
              "      <td>2.105461</td>\n",
              "      <td>153</td>\n",
              "      <td>2.16</td>\n",
              "      <td>1.702857</td>\n",
              "      <td>0.916291</td>\n",
              "      <td>1.761905</td>\n",
              "      <td>0.693147</td>\n",
              "      <td>0.047619</td>\n",
              "      <td>0.086822</td>\n",
              "      <td>5</td>\n",
              "      <td>3.095238</td>\n",
              "      <td>0.645547</td>\n",
              "      <td>1.812332</td>\n",
              "      <td>1.609438</td>\n",
              "      <td>8</td>\n",
              "      <td>8</td>\n",
              "      <td>0.829650</td>\n",
              "      <td>6</td>\n",
              "      <td>2.639771</td>\n",
              "      <td>1.809927</td>\n",
              "      <td>2.639771</td>\n",
              "      <td>0.0</td>\n",
              "      <td>0.0</td>\n",
              "      <td>0.000023</td>\n",
              "      <td>194</td>\n",
              "      <td>229</td>\n",
              "      <td>220.476191</td>\n",
              "      <td>9</td>\n",
              "      <td>5</td>\n",
              "      <td>5</td>\n",
              "      <td>43</td>\n",
              "      <td>3</td>\n",
              "      <td>BCC</td>\n",
              "    </tr>\n",
              "  </tbody>\n",
              "</table>\n",
              "</div>"
            ],
            "text/plain": [
              "           Alloy  avg_dev_AtomicWeight  maximum_MeltingT  avg_dev_MeltingT  \\\n",
              "0   Al0.5NbTaTiV              3.838070            3290.0        584.546173   \n",
              "1  Al0.75MoNbTiV              3.255577            2896.0        521.067701   \n",
              "2  Al0.25MoNbTiV              3.205911            2896.0        441.662561   \n",
              "3  Al0.25NbTaTiV              3.825406            3290.0        539.821730   \n",
              "4   Al0.2MoTaTiV              3.838178            3290.0        565.511565   \n",
              "\n",
              "   mode_MeltingT  avg_dev_Column  mean_Row  mode_Row  minimum_CovalentRadius  \\\n",
              "0       7.571474        0.966843  4.555556         4                     121   \n",
              "1       7.571474        1.140210  4.263158         4                     121   \n",
              "2       7.571474        0.758442  4.411765         4                     121   \n",
              "3       7.571474        0.648931  4.647059         4                     121   \n",
              "4       7.571474        0.703300  4.666667         4                     121   \n",
              "\n",
              "   maximum_CovalentRadius  range_CovalentRadius  avg_dev_CovalentRadius  \\\n",
              "0                     170              3.912023                2.391138   \n",
              "1                     164              3.784190                2.377029   \n",
              "2                     164              3.784190                1.950841   \n",
              "3                     170              3.912023                2.140270   \n",
              "4                     170              3.912023                2.105461   \n",
              "\n",
              "   mode_CovalentRadius  maximum_Electronegativity  mean_Electronegativity  \\\n",
              "0                  153                       1.63                1.572222   \n",
              "1                  153                       2.16                1.713158   \n",
              "2                  153                       2.16                1.725294   \n",
              "3                  153                       1.63                1.570000   \n",
              "4                  153                       2.16                1.702857   \n",
              "\n",
              "   mode_Electronegativity  mean_NsValence  maximum_NpValence  mean_NpValence  \\\n",
              "0                0.916291        1.777778           0.693147        0.111111   \n",
              "1                0.932164        1.578947           0.693147        0.157895   \n",
              "2                0.932164        1.529412           0.693147        0.058824   \n",
              "3                0.916291        1.764706           0.693147        0.058824   \n",
              "4                0.916291        1.761905           0.693147        0.047619   \n",
              "\n",
              "   avg_dev_NpValence  range_NdValence  mean_NdValence  avg_dev_NdValence  \\\n",
              "0           0.180262                4        2.666667           0.635989   \n",
              "1           0.235805                5        2.947368           0.845714   \n",
              "2           0.105014                5        3.294118           0.758442   \n",
              "3           0.105014                4        2.823529           0.542163   \n",
              "4           0.086822                5        3.095238           0.645547   \n",
              "\n",
              "   avg_dev_NValence  mode_NValence  maximum_NdUnfilled  range_NdUnfilled  \\\n",
              "0          1.797913       1.609438                   8                 8   \n",
              "1          0.598806       1.609438                   8                 8   \n",
              "2          0.492669       1.609438                   8                 8   \n",
              "3          1.825219       1.609438                   8                 8   \n",
              "4          1.812332       1.609438                   8                 8   \n",
              "\n",
              "   avg_dev_NdUnfilled  mode_NUnfilled  minimum_GSvolume_pa  range_GSvolume_pa  \\\n",
              "0            0.908856               7             2.639771           1.819699   \n",
              "1            1.074312               6             2.639771           1.819699   \n",
              "2            0.833360               6             2.639771           1.819699   \n",
              "3            0.718768               7             2.639771           1.819699   \n",
              "4            0.829650               6             2.639771           1.809927   \n",
              "\n",
              "   mode_GSvolume_pa  maximum_GSbandgap  avg_dev_GSbandgap  range_GSmagmom  \\\n",
              "0          2.639771                0.0                0.0        0.000023   \n",
              "1          2.639771                0.0                0.0        0.000023   \n",
              "2          2.639771                0.0                0.0        0.000023   \n",
              "3          2.639771                0.0                0.0        0.000023   \n",
              "4          2.639771                0.0                0.0        0.000023   \n",
              "\n",
              "   minimum_SpaceGroupNumber  maximum_SpaceGroupNumber  mean_SpaceGroupNumber  \\\n",
              "0                       194                       229             220.777778   \n",
              "1                       194                       229             221.000000   \n",
              "2                       194                       229             220.529412   \n",
              "3                       194                       229             220.529412   \n",
              "4                       194                       229             220.476191   \n",
              "\n",
              "   range_Column  maximum_NpUnfilled  maximum_NdValence  mode_MendeleevNumber  \\\n",
              "0             9                   5                  4                    43   \n",
              "1             9                   5                  5                    43   \n",
              "2             9                   5                  5                    43   \n",
              "3             9                   5                  4                    43   \n",
              "4             9                   5                  5                    43   \n",
              "\n",
              "   range_NUnfilled Phase  \n",
              "0                3   BCC  \n",
              "1                3   BCC  \n",
              "2                3   BCC  \n",
              "3                3   BCC  \n",
              "4                3   BCC  "
            ]
          },
          "execution_count": 3,
          "metadata": {},
          "output_type": "execute_result"
        }
      ],
      "source": [
        "df = pd.read_csv(pwd+\"/raw_dataset/HEA_tr_NETCORE.csv\")\n",
        "print(\"Shape of Dataframe: \", df.shape)\n",
        "df.head()"
      ]
    },
    {
      "cell_type": "code",
      "execution_count": 4,
      "metadata": {
        "id": "0Ijqh3vm-PGz"
      },
      "outputs": [
        {
          "name": "stdout",
          "output_type": "stream",
          "text": [
            "Shape of feature: (1167, 42)\n",
            "Shape of labels: (1167,)\n"
          ]
        }
      ],
      "source": [
        "# SHUFFLE THE DATASET\n",
        "df = df.sample(frac=1, random_state=42)\n",
        "X = df.copy().drop(columns=[\"Alloy\", \"Phase\"])\n",
        "y = df[\"Phase\"].astype(\"category\")\n",
        "print(f\"Shape of feature: {X.shape}\\nShape of labels: {y.shape}\")"
      ]
    },
    {
      "cell_type": "code",
      "execution_count": 5,
      "metadata": {
        "id": "KKaGJmUZ-PG0"
      },
      "outputs": [
        {
          "name": "stdout",
          "output_type": "stream",
          "text": [
            "Phase\n",
            "MIP        428\n",
            "BCC        363\n",
            "FCC        211\n",
            "FCC_BCC    165\n",
            "Name: count, dtype: int64\n"
          ]
        }
      ],
      "source": [
        "# check class imbalance\n",
        "print(y.value_counts(ascending=False))"
      ]
    },
    {
      "cell_type": "code",
      "execution_count": 6,
      "metadata": {
        "id": "r2k0HCzC-PG1"
      },
      "outputs": [
        {
          "name": "stderr",
          "output_type": "stream",
          "text": [
            "c:\\Users\\shoha\\AppData\\Local\\Programs\\Python\\Python312\\Lib\\site-packages\\joblib\\externals\\loky\\backend\\context.py:136: UserWarning: Could not find the number of physical cores for the following reason:\n",
            "found 0 physical cores < 1\n",
            "Returning the number of logical cores instead. You can silence this warning by setting LOKY_MAX_CPU_COUNT to the number of cores you want to use.\n",
            "  warnings.warn(\n",
            "  File \"c:\\Users\\shoha\\AppData\\Local\\Programs\\Python\\Python312\\Lib\\site-packages\\joblib\\externals\\loky\\backend\\context.py\", line 282, in _count_physical_cores\n",
            "    raise ValueError(f\"found {cpu_count_physical} physical cores < 1\")\n"
          ]
        },
        {
          "name": "stdout",
          "output_type": "stream",
          "text": [
            "Shape of feature: (1712, 42)\n",
            "Shape of labels: (1712,)\n"
          ]
        }
      ],
      "source": [
        "from imblearn.over_sampling import SMOTE\n",
        "X, y = SMOTE(random_state=42).fit_resample(X, y)\n",
        "print(f\"Shape of feature: {X.shape}\\nShape of labels: {y.shape}\")"
      ]
    },
    {
      "cell_type": "code",
      "execution_count": 7,
      "metadata": {
        "id": "m6dTs9JE-PG1"
      },
      "outputs": [
        {
          "name": "stdout",
          "output_type": "stream",
          "text": [
            "Phase\n",
            "BCC        428\n",
            "FCC        428\n",
            "FCC_BCC    428\n",
            "MIP        428\n",
            "Name: count, dtype: int64\n"
          ]
        }
      ],
      "source": [
        "# check for class imbalance\n",
        "print(y.value_counts(ascending=False))"
      ]
    },
    {
      "cell_type": "code",
      "execution_count": 8,
      "metadata": {
        "id": "U5DEy8XG-PG2"
      },
      "outputs": [
        {
          "data": {
            "text/html": [
              "<div>\n",
              "<style scoped>\n",
              "    .dataframe tbody tr th:only-of-type {\n",
              "        vertical-align: middle;\n",
              "    }\n",
              "\n",
              "    .dataframe tbody tr th {\n",
              "        vertical-align: top;\n",
              "    }\n",
              "\n",
              "    .dataframe thead th {\n",
              "        text-align: right;\n",
              "    }\n",
              "</style>\n",
              "<table border=\"1\" class=\"dataframe\">\n",
              "  <thead>\n",
              "    <tr style=\"text-align: right;\">\n",
              "      <th></th>\n",
              "      <th>avg_dev_AtomicWeight</th>\n",
              "      <th>maximum_MeltingT</th>\n",
              "      <th>avg_dev_MeltingT</th>\n",
              "      <th>mode_MeltingT</th>\n",
              "      <th>avg_dev_Column</th>\n",
              "      <th>mean_Row</th>\n",
              "      <th>mode_Row</th>\n",
              "      <th>minimum_CovalentRadius</th>\n",
              "      <th>maximum_CovalentRadius</th>\n",
              "      <th>range_CovalentRadius</th>\n",
              "      <th>avg_dev_CovalentRadius</th>\n",
              "      <th>mode_CovalentRadius</th>\n",
              "      <th>maximum_Electronegativity</th>\n",
              "      <th>mean_Electronegativity</th>\n",
              "      <th>mode_Electronegativity</th>\n",
              "      <th>mean_NsValence</th>\n",
              "      <th>maximum_NpValence</th>\n",
              "      <th>mean_NpValence</th>\n",
              "      <th>avg_dev_NpValence</th>\n",
              "      <th>range_NdValence</th>\n",
              "      <th>mean_NdValence</th>\n",
              "      <th>avg_dev_NdValence</th>\n",
              "      <th>avg_dev_NValence</th>\n",
              "      <th>mode_NValence</th>\n",
              "      <th>maximum_NdUnfilled</th>\n",
              "      <th>range_NdUnfilled</th>\n",
              "      <th>avg_dev_NdUnfilled</th>\n",
              "      <th>mode_NUnfilled</th>\n",
              "      <th>minimum_GSvolume_pa</th>\n",
              "      <th>range_GSvolume_pa</th>\n",
              "      <th>mode_GSvolume_pa</th>\n",
              "      <th>maximum_GSbandgap</th>\n",
              "      <th>avg_dev_GSbandgap</th>\n",
              "      <th>range_GSmagmom</th>\n",
              "      <th>minimum_SpaceGroupNumber</th>\n",
              "      <th>maximum_SpaceGroupNumber</th>\n",
              "      <th>mean_SpaceGroupNumber</th>\n",
              "      <th>range_Column</th>\n",
              "      <th>maximum_NpUnfilled</th>\n",
              "      <th>maximum_NdValence</th>\n",
              "      <th>mode_MendeleevNumber</th>\n",
              "      <th>range_NUnfilled</th>\n",
              "    </tr>\n",
              "  </thead>\n",
              "  <tbody>\n",
              "    <tr>\n",
              "      <th>0</th>\n",
              "      <td>0.161097</td>\n",
              "      <td>1.256140</td>\n",
              "      <td>0.606754</td>\n",
              "      <td>0.532601</td>\n",
              "      <td>0.521256</td>\n",
              "      <td>-0.216360</td>\n",
              "      <td>0.0</td>\n",
              "      <td>0.0</td>\n",
              "      <td>0.18</td>\n",
              "      <td>0.584759</td>\n",
              "      <td>0.717467</td>\n",
              "      <td>1.363636</td>\n",
              "      <td>0.25</td>\n",
              "      <td>0.232362</td>\n",
              "      <td>0.449317</td>\n",
              "      <td>-1.196825</td>\n",
              "      <td>0.000000</td>\n",
              "      <td>0.477222</td>\n",
              "      <td>0.422557</td>\n",
              "      <td>0.000000</td>\n",
              "      <td>-0.304043</td>\n",
              "      <td>0.175303</td>\n",
              "      <td>-0.008391</td>\n",
              "      <td>0.000000</td>\n",
              "      <td>0.000000</td>\n",
              "      <td>0.0</td>\n",
              "      <td>0.190333</td>\n",
              "      <td>1.333333</td>\n",
              "      <td>0.000000</td>\n",
              "      <td>0.000000</td>\n",
              "      <td>0.336801</td>\n",
              "      <td>0.000</td>\n",
              "      <td>0.000000</td>\n",
              "      <td>0.0</td>\n",
              "      <td>0.0</td>\n",
              "      <td>0.0</td>\n",
              "      <td>0.640823</td>\n",
              "      <td>0.000000</td>\n",
              "      <td>0.0</td>\n",
              "      <td>0.0</td>\n",
              "      <td>0.000000</td>\n",
              "      <td>0.0</td>\n",
              "    </tr>\n",
              "    <tr>\n",
              "      <th>1</th>\n",
              "      <td>-0.709468</td>\n",
              "      <td>-0.647368</td>\n",
              "      <td>-0.538152</td>\n",
              "      <td>-0.471801</td>\n",
              "      <td>-0.863198</td>\n",
              "      <td>0.220453</td>\n",
              "      <td>0.0</td>\n",
              "      <td>1.0</td>\n",
              "      <td>-0.42</td>\n",
              "      <td>-0.427776</td>\n",
              "      <td>-1.279471</td>\n",
              "      <td>0.000000</td>\n",
              "      <td>0.05</td>\n",
              "      <td>1.471545</td>\n",
              "      <td>1.916202</td>\n",
              "      <td>-0.110975</td>\n",
              "      <td>0.584963</td>\n",
              "      <td>-0.223215</td>\n",
              "      <td>-0.254527</td>\n",
              "      <td>-0.666667</td>\n",
              "      <td>1.487024</td>\n",
              "      <td>-0.236945</td>\n",
              "      <td>-0.963679</td>\n",
              "      <td>0.560099</td>\n",
              "      <td>-0.333333</td>\n",
              "      <td>-0.5</td>\n",
              "      <td>-0.196263</td>\n",
              "      <td>-0.333333</td>\n",
              "      <td>0.000000</td>\n",
              "      <td>10.948033</td>\n",
              "      <td>-0.030237</td>\n",
              "      <td>0.000</td>\n",
              "      <td>0.000000</td>\n",
              "      <td>0.0</td>\n",
              "      <td>-53.0</td>\n",
              "      <td>0.0</td>\n",
              "      <td>-0.640578</td>\n",
              "      <td>-0.333333</td>\n",
              "      <td>-0.2</td>\n",
              "      <td>1.0</td>\n",
              "      <td>0.666667</td>\n",
              "      <td>-1.0</td>\n",
              "    </tr>\n",
              "    <tr>\n",
              "      <th>2</th>\n",
              "      <td>-0.551801</td>\n",
              "      <td>-0.647368</td>\n",
              "      <td>-0.934202</td>\n",
              "      <td>0.039657</td>\n",
              "      <td>-0.977210</td>\n",
              "      <td>-0.216360</td>\n",
              "      <td>0.0</td>\n",
              "      <td>0.0</td>\n",
              "      <td>-0.70</td>\n",
              "      <td>-0.814217</td>\n",
              "      <td>-1.599888</td>\n",
              "      <td>0.000000</td>\n",
              "      <td>0.00</td>\n",
              "      <td>1.090976</td>\n",
              "      <td>1.916202</td>\n",
              "      <td>1.809577</td>\n",
              "      <td>0.000000</td>\n",
              "      <td>0.026149</td>\n",
              "      <td>0.020301</td>\n",
              "      <td>0.000000</td>\n",
              "      <td>0.584874</td>\n",
              "      <td>-0.225051</td>\n",
              "      <td>-0.802636</td>\n",
              "      <td>0.560099</td>\n",
              "      <td>-0.333333</td>\n",
              "      <td>-0.5</td>\n",
              "      <td>-0.853525</td>\n",
              "      <td>0.000000</td>\n",
              "      <td>0.000000</td>\n",
              "      <td>0.000000</td>\n",
              "      <td>-0.030237</td>\n",
              "      <td>0.000</td>\n",
              "      <td>0.000000</td>\n",
              "      <td>0.0</td>\n",
              "      <td>0.0</td>\n",
              "      <td>0.0</td>\n",
              "      <td>-0.694305</td>\n",
              "      <td>-0.666667</td>\n",
              "      <td>0.0</td>\n",
              "      <td>0.0</td>\n",
              "      <td>0.666667</td>\n",
              "      <td>-1.0</td>\n",
              "    </tr>\n",
              "    <tr>\n",
              "      <th>3</th>\n",
              "      <td>0.428073</td>\n",
              "      <td>2.882456</td>\n",
              "      <td>0.969928</td>\n",
              "      <td>-1.266392</td>\n",
              "      <td>0.594814</td>\n",
              "      <td>-1.406341</td>\n",
              "      <td>-1.0</td>\n",
              "      <td>-15.0</td>\n",
              "      <td>-0.42</td>\n",
              "      <td>1.434420</td>\n",
              "      <td>1.058207</td>\n",
              "      <td>-0.272727</td>\n",
              "      <td>0.64</td>\n",
              "      <td>0.850365</td>\n",
              "      <td>0.000000</td>\n",
              "      <td>0.362050</td>\n",
              "      <td>0.584963</td>\n",
              "      <td>1.529725</td>\n",
              "      <td>1.115875</td>\n",
              "      <td>0.000000</td>\n",
              "      <td>-0.534503</td>\n",
              "      <td>0.775456</td>\n",
              "      <td>0.299071</td>\n",
              "      <td>-1.247204</td>\n",
              "      <td>0.000000</td>\n",
              "      <td>0.0</td>\n",
              "      <td>0.262099</td>\n",
              "      <td>0.000000</td>\n",
              "      <td>-79.249736</td>\n",
              "      <td>4.490789</td>\n",
              "      <td>-0.030237</td>\n",
              "      <td>4.496</td>\n",
              "      <td>0.616735</td>\n",
              "      <td>0.0</td>\n",
              "      <td>0.0</td>\n",
              "      <td>0.0</td>\n",
              "      <td>-0.283342</td>\n",
              "      <td>0.333333</td>\n",
              "      <td>0.0</td>\n",
              "      <td>0.0</td>\n",
              "      <td>0.000000</td>\n",
              "      <td>0.0</td>\n",
              "    </tr>\n",
              "    <tr>\n",
              "      <th>4</th>\n",
              "      <td>0.071655</td>\n",
              "      <td>1.256140</td>\n",
              "      <td>0.363886</td>\n",
              "      <td>0.039657</td>\n",
              "      <td>0.103571</td>\n",
              "      <td>0.140634</td>\n",
              "      <td>0.0</td>\n",
              "      <td>0.0</td>\n",
              "      <td>0.18</td>\n",
              "      <td>0.584759</td>\n",
              "      <td>0.646848</td>\n",
              "      <td>0.000000</td>\n",
              "      <td>0.25</td>\n",
              "      <td>0.820978</td>\n",
              "      <td>0.449317</td>\n",
              "      <td>-0.535416</td>\n",
              "      <td>0.000000</td>\n",
              "      <td>0.161471</td>\n",
              "      <td>0.153797</td>\n",
              "      <td>0.000000</td>\n",
              "      <td>0.067211</td>\n",
              "      <td>0.047385</td>\n",
              "      <td>-0.120768</td>\n",
              "      <td>0.000000</td>\n",
              "      <td>0.000000</td>\n",
              "      <td>0.0</td>\n",
              "      <td>-0.141745</td>\n",
              "      <td>0.000000</td>\n",
              "      <td>0.000000</td>\n",
              "      <td>0.000000</td>\n",
              "      <td>-0.030237</td>\n",
              "      <td>0.000</td>\n",
              "      <td>0.000000</td>\n",
              "      <td>0.0</td>\n",
              "      <td>0.0</td>\n",
              "      <td>0.0</td>\n",
              "      <td>0.269152</td>\n",
              "      <td>0.000000</td>\n",
              "      <td>0.0</td>\n",
              "      <td>0.0</td>\n",
              "      <td>0.000000</td>\n",
              "      <td>0.0</td>\n",
              "    </tr>\n",
              "  </tbody>\n",
              "</table>\n",
              "</div>"
            ],
            "text/plain": [
              "   avg_dev_AtomicWeight  maximum_MeltingT  avg_dev_MeltingT  mode_MeltingT  \\\n",
              "0              0.161097          1.256140          0.606754       0.532601   \n",
              "1             -0.709468         -0.647368         -0.538152      -0.471801   \n",
              "2             -0.551801         -0.647368         -0.934202       0.039657   \n",
              "3              0.428073          2.882456          0.969928      -1.266392   \n",
              "4              0.071655          1.256140          0.363886       0.039657   \n",
              "\n",
              "   avg_dev_Column  mean_Row  mode_Row  minimum_CovalentRadius  \\\n",
              "0        0.521256 -0.216360       0.0                     0.0   \n",
              "1       -0.863198  0.220453       0.0                     1.0   \n",
              "2       -0.977210 -0.216360       0.0                     0.0   \n",
              "3        0.594814 -1.406341      -1.0                   -15.0   \n",
              "4        0.103571  0.140634       0.0                     0.0   \n",
              "\n",
              "   maximum_CovalentRadius  range_CovalentRadius  avg_dev_CovalentRadius  \\\n",
              "0                    0.18              0.584759                0.717467   \n",
              "1                   -0.42             -0.427776               -1.279471   \n",
              "2                   -0.70             -0.814217               -1.599888   \n",
              "3                   -0.42              1.434420                1.058207   \n",
              "4                    0.18              0.584759                0.646848   \n",
              "\n",
              "   mode_CovalentRadius  maximum_Electronegativity  mean_Electronegativity  \\\n",
              "0             1.363636                       0.25                0.232362   \n",
              "1             0.000000                       0.05                1.471545   \n",
              "2             0.000000                       0.00                1.090976   \n",
              "3            -0.272727                       0.64                0.850365   \n",
              "4             0.000000                       0.25                0.820978   \n",
              "\n",
              "   mode_Electronegativity  mean_NsValence  maximum_NpValence  mean_NpValence  \\\n",
              "0                0.449317       -1.196825           0.000000        0.477222   \n",
              "1                1.916202       -0.110975           0.584963       -0.223215   \n",
              "2                1.916202        1.809577           0.000000        0.026149   \n",
              "3                0.000000        0.362050           0.584963        1.529725   \n",
              "4                0.449317       -0.535416           0.000000        0.161471   \n",
              "\n",
              "   avg_dev_NpValence  range_NdValence  mean_NdValence  avg_dev_NdValence  \\\n",
              "0           0.422557         0.000000       -0.304043           0.175303   \n",
              "1          -0.254527        -0.666667        1.487024          -0.236945   \n",
              "2           0.020301         0.000000        0.584874          -0.225051   \n",
              "3           1.115875         0.000000       -0.534503           0.775456   \n",
              "4           0.153797         0.000000        0.067211           0.047385   \n",
              "\n",
              "   avg_dev_NValence  mode_NValence  maximum_NdUnfilled  range_NdUnfilled  \\\n",
              "0         -0.008391       0.000000            0.000000               0.0   \n",
              "1         -0.963679       0.560099           -0.333333              -0.5   \n",
              "2         -0.802636       0.560099           -0.333333              -0.5   \n",
              "3          0.299071      -1.247204            0.000000               0.0   \n",
              "4         -0.120768       0.000000            0.000000               0.0   \n",
              "\n",
              "   avg_dev_NdUnfilled  mode_NUnfilled  minimum_GSvolume_pa  range_GSvolume_pa  \\\n",
              "0            0.190333        1.333333             0.000000           0.000000   \n",
              "1           -0.196263       -0.333333             0.000000          10.948033   \n",
              "2           -0.853525        0.000000             0.000000           0.000000   \n",
              "3            0.262099        0.000000           -79.249736           4.490789   \n",
              "4           -0.141745        0.000000             0.000000           0.000000   \n",
              "\n",
              "   mode_GSvolume_pa  maximum_GSbandgap  avg_dev_GSbandgap  range_GSmagmom  \\\n",
              "0          0.336801              0.000           0.000000             0.0   \n",
              "1         -0.030237              0.000           0.000000             0.0   \n",
              "2         -0.030237              0.000           0.000000             0.0   \n",
              "3         -0.030237              4.496           0.616735             0.0   \n",
              "4         -0.030237              0.000           0.000000             0.0   \n",
              "\n",
              "   minimum_SpaceGroupNumber  maximum_SpaceGroupNumber  mean_SpaceGroupNumber  \\\n",
              "0                       0.0                       0.0               0.640823   \n",
              "1                     -53.0                       0.0              -0.640578   \n",
              "2                       0.0                       0.0              -0.694305   \n",
              "3                       0.0                       0.0              -0.283342   \n",
              "4                       0.0                       0.0               0.269152   \n",
              "\n",
              "   range_Column  maximum_NpUnfilled  maximum_NdValence  mode_MendeleevNumber  \\\n",
              "0      0.000000                 0.0                0.0              0.000000   \n",
              "1     -0.333333                -0.2                1.0              0.666667   \n",
              "2     -0.666667                 0.0                0.0              0.666667   \n",
              "3      0.333333                 0.0                0.0              0.000000   \n",
              "4      0.000000                 0.0                0.0              0.000000   \n",
              "\n",
              "   range_NUnfilled  \n",
              "0              0.0  \n",
              "1             -1.0  \n",
              "2             -1.0  \n",
              "3              0.0  \n",
              "4              0.0  "
            ]
          },
          "execution_count": 8,
          "metadata": {},
          "output_type": "execute_result"
        }
      ],
      "source": [
        "# SCALE FEATURES\n",
        "X = pd.DataFrame(RobustScaler().fit_transform(X), columns=X.columns)\n",
        "X.head()"
      ]
    },
    {
      "cell_type": "code",
      "execution_count": 9,
      "metadata": {
        "id": "MrZJIVBl-PG2"
      },
      "outputs": [],
      "source": [
        "# Label encode y and then to_categorical\n",
        "lb_enc = LabelEncoder()\n",
        "y = lb_enc.fit_transform(y)"
      ]
    },
    {
      "cell_type": "code",
      "execution_count": 10,
      "metadata": {
        "id": "2ilITuTd-PG3"
      },
      "outputs": [
        {
          "data": {
            "text/plain": [
              "['BCC', 'FCC', 'FCC_BCC', 'MIP']"
            ]
          },
          "execution_count": 10,
          "metadata": {},
          "output_type": "execute_result"
        }
      ],
      "source": [
        "labels = list(lb_enc.classes_)\n",
        "labels"
      ]
    },
    {
      "cell_type": "code",
      "execution_count": 11,
      "metadata": {
        "id": "zcf7L3Zg-PG3"
      },
      "outputs": [
        {
          "name": "stdout",
          "output_type": "stream",
          "text": [
            "{'BCC': 0, 'FCC': 1, 'FCC_BCC': 2, 'MIP': 3}\n"
          ]
        }
      ],
      "source": [
        "print(dict(zip(lb_enc.inverse_transform([0, 1, 2, 3]), [0, 1, 2, 3])))"
      ]
    },
    {
      "cell_type": "code",
      "execution_count": 12,
      "metadata": {
        "id": "3BFPPDBk-PG4"
      },
      "outputs": [
        {
          "name": "stdout",
          "output_type": "stream",
          "text": [
            "Shape of training features: (1369, 42)\n",
            "Shape of training labels: (1369,)\n",
            "Shape of test features: (343, 42)\n",
            "Shape of test labels: (343,)\n"
          ]
        }
      ],
      "source": [
        "X_train, X_test, y_train, y_test = train_test_split(X, y, test_size=0.2, random_state=42)\n",
        "print(f\"Shape of training features: {X_train.shape}\")\n",
        "print(f\"Shape of training labels: {y_train.shape}\")\n",
        "print(f\"Shape of test features: {X_test.shape}\")\n",
        "print(f\"Shape of test labels: {y_test.shape}\")"
      ]
    },
    {
      "cell_type": "code",
      "execution_count": 13,
      "metadata": {
        "id": "b18lKwzb7NMP"
      },
      "outputs": [],
      "source": [
        "# DEFINE OBJECTIVE FUNCTION\n",
        "def obj_fn(trial):\n",
        "    # DEFINE PARAMETER SPACE\n",
        "    params = {\n",
        "        \"n_estimators\": trial.suggest_int(\"n_estimators\", 50, 300, step=50),\n",
        "        \"max_depth\":    trial.suggest_int(\"max_depth\", 3, 20),\n",
        "        \"criterion\":    trial.suggest_categorical(\"criterion\", [\"gini\", \"entropy\"]),\n",
        "        \"min_samples_split\":    trial.suggest_int(\"min_samples_split\", 2, 20),\n",
        "        \"min_samples_leaf\":     trial.suggest_int(\"min_samples_leaf\", 1, 20),\n",
        "        \"max_features\": trial.suggest_categorical(\"max_features\", [None, \"sqrt\", \"log2\"])    \n",
        "    }\n",
        "    # CONSTRUCT MODEL\n",
        "    model = RandomForestClassifier(**params, random_state=42)\n",
        "    model.fit(X_train, y_train)\n",
        "    y_test_pred = model.predict(X_test)\n",
        "    test_acc = accuracy_score(y_test, y_test_pred)\n",
        "\n",
        "    return test_acc"
      ]
    },
    {
      "cell_type": "code",
      "execution_count": 14,
      "metadata": {
        "id": "kFw-Cz42-PG6"
      },
      "outputs": [
        {
          "name": "stderr",
          "output_type": "stream",
          "text": [
            "[I 2024-10-01 04:49:49,848] A new study created in memory with name: no-name-af2fd32e-558f-4220-9d16-63659408e1e8\n",
            "Best trial: 0. Best value: 0.836735:   2%|▏         | 1/50 [00:03<02:41,  3.29s/it]"
          ]
        },
        {
          "name": "stdout",
          "output_type": "stream",
          "text": [
            "[I 2024-10-01 04:49:53,151] Trial 0 finished with value: 0.8367346938775511 and parameters: {'n_estimators': 200, 'max_depth': 9, 'criterion': 'entropy', 'min_samples_split': 18, 'min_samples_leaf': 12, 'max_features': 'sqrt'}. Best is trial 0 with value: 0.8367346938775511.\n"
          ]
        },
        {
          "name": "stderr",
          "output_type": "stream",
          "text": [
            "Best trial: 1. Best value: 0.854227:   4%|▍         | 2/50 [00:06<02:42,  3.39s/it]"
          ]
        },
        {
          "name": "stdout",
          "output_type": "stream",
          "text": [
            "[I 2024-10-01 04:49:56,620] Trial 1 finished with value: 0.8542274052478134 and parameters: {'n_estimators': 50, 'max_depth': 11, 'criterion': 'entropy', 'min_samples_split': 15, 'min_samples_leaf': 5, 'max_features': None}. Best is trial 1 with value: 0.8542274052478134.\n"
          ]
        },
        {
          "name": "stderr",
          "output_type": "stream",
          "text": [
            "Best trial: 1. Best value: 0.854227:   6%|▌         | 3/50 [00:18<05:33,  7.10s/it]"
          ]
        },
        {
          "name": "stdout",
          "output_type": "stream",
          "text": [
            "[I 2024-10-01 04:50:08,142] Trial 2 finished with value: 0.8396501457725948 and parameters: {'n_estimators': 300, 'max_depth': 9, 'criterion': 'gini', 'min_samples_split': 4, 'min_samples_leaf': 16, 'max_features': None}. Best is trial 1 with value: 0.8542274052478134.\n"
          ]
        },
        {
          "name": "stderr",
          "output_type": "stream",
          "text": [
            "Best trial: 1. Best value: 0.854227:   8%|▊         | 4/50 [00:21<04:21,  5.68s/it]"
          ]
        },
        {
          "name": "stdout",
          "output_type": "stream",
          "text": [
            "[I 2024-10-01 04:50:11,630] Trial 3 finished with value: 0.8338192419825073 and parameters: {'n_estimators': 300, 'max_depth': 12, 'criterion': 'gini', 'min_samples_split': 14, 'min_samples_leaf': 13, 'max_features': 'sqrt'}. Best is trial 1 with value: 0.8542274052478134.\n"
          ]
        },
        {
          "name": "stderr",
          "output_type": "stream",
          "text": [
            "Best trial: 1. Best value: 0.854227:  10%|█         | 5/50 [00:24<03:20,  4.47s/it]"
          ]
        },
        {
          "name": "stdout",
          "output_type": "stream",
          "text": [
            "[I 2024-10-01 04:50:13,948] Trial 4 finished with value: 0.8425655976676385 and parameters: {'n_estimators': 150, 'max_depth': 10, 'criterion': 'entropy', 'min_samples_split': 20, 'min_samples_leaf': 10, 'max_features': 'sqrt'}. Best is trial 1 with value: 0.8542274052478134.\n"
          ]
        },
        {
          "name": "stderr",
          "output_type": "stream",
          "text": [
            "Best trial: 1. Best value: 0.854227:  12%|█▏        | 6/50 [00:25<02:27,  3.35s/it]"
          ]
        },
        {
          "name": "stdout",
          "output_type": "stream",
          "text": [
            "[I 2024-10-01 04:50:15,114] Trial 5 finished with value: 0.8338192419825073 and parameters: {'n_estimators': 100, 'max_depth': 20, 'criterion': 'gini', 'min_samples_split': 2, 'min_samples_leaf': 12, 'max_features': 'log2'}. Best is trial 1 with value: 0.8542274052478134.\n"
          ]
        },
        {
          "name": "stderr",
          "output_type": "stream",
          "text": [
            "Best trial: 1. Best value: 0.854227:  14%|█▍        | 7/50 [00:37<04:33,  6.36s/it]"
          ]
        },
        {
          "name": "stdout",
          "output_type": "stream",
          "text": [
            "[I 2024-10-01 04:50:27,685] Trial 6 finished with value: 0.8309037900874635 and parameters: {'n_estimators': 250, 'max_depth': 7, 'criterion': 'entropy', 'min_samples_split': 8, 'min_samples_leaf': 20, 'max_features': None}. Best is trial 1 with value: 0.8542274052478134.\n"
          ]
        },
        {
          "name": "stderr",
          "output_type": "stream",
          "text": [
            "Best trial: 1. Best value: 0.854227:  16%|█▌        | 8/50 [00:40<03:35,  5.12s/it]"
          ]
        },
        {
          "name": "stdout",
          "output_type": "stream",
          "text": [
            "[I 2024-10-01 04:50:30,154] Trial 7 finished with value: 0.8396501457725948 and parameters: {'n_estimators': 50, 'max_depth': 11, 'criterion': 'gini', 'min_samples_split': 14, 'min_samples_leaf': 4, 'max_features': None}. Best is trial 1 with value: 0.8542274052478134.\n"
          ]
        },
        {
          "name": "stderr",
          "output_type": "stream",
          "text": [
            "Best trial: 8. Best value: 0.860058:  18%|█▊        | 9/50 [00:45<03:28,  5.08s/it]"
          ]
        },
        {
          "name": "stdout",
          "output_type": "stream",
          "text": [
            "[I 2024-10-01 04:50:35,112] Trial 8 finished with value: 0.8600583090379009 and parameters: {'n_estimators': 100, 'max_depth': 10, 'criterion': 'gini', 'min_samples_split': 12, 'min_samples_leaf': 2, 'max_features': None}. Best is trial 8 with value: 0.8600583090379009.\n"
          ]
        },
        {
          "name": "stderr",
          "output_type": "stream",
          "text": [
            "Best trial: 8. Best value: 0.860058:  20%|██        | 10/50 [01:03<06:03,  9.09s/it]"
          ]
        },
        {
          "name": "stdout",
          "output_type": "stream",
          "text": [
            "[I 2024-10-01 04:50:53,217] Trial 9 finished with value: 0.8396501457725948 and parameters: {'n_estimators': 300, 'max_depth': 17, 'criterion': 'entropy', 'min_samples_split': 11, 'min_samples_leaf': 15, 'max_features': None}. Best is trial 8 with value: 0.8600583090379009.\n"
          ]
        },
        {
          "name": "stderr",
          "output_type": "stream",
          "text": [
            "Best trial: 8. Best value: 0.860058:  22%|██▏       | 11/50 [01:04<04:25,  6.81s/it]"
          ]
        },
        {
          "name": "stdout",
          "output_type": "stream",
          "text": [
            "[I 2024-10-01 04:50:54,845] Trial 10 finished with value: 0.7055393586005831 and parameters: {'n_estimators': 150, 'max_depth': 3, 'criterion': 'gini', 'min_samples_split': 8, 'min_samples_leaf': 2, 'max_features': 'log2'}. Best is trial 8 with value: 0.8600583090379009.\n"
          ]
        },
        {
          "name": "stderr",
          "output_type": "stream",
          "text": [
            "Best trial: 8. Best value: 0.860058:  24%|██▍       | 12/50 [01:08<03:38,  5.74s/it]"
          ]
        },
        {
          "name": "stdout",
          "output_type": "stream",
          "text": [
            "[I 2024-10-01 04:50:58,156] Trial 11 finished with value: 0.8513119533527697 and parameters: {'n_estimators': 50, 'max_depth': 14, 'criterion': 'entropy', 'min_samples_split': 16, 'min_samples_leaf': 6, 'max_features': None}. Best is trial 8 with value: 0.8600583090379009.\n"
          ]
        },
        {
          "name": "stderr",
          "output_type": "stream",
          "text": [
            "Best trial: 8. Best value: 0.860058:  26%|██▌       | 13/50 [01:11<03:07,  5.06s/it]"
          ]
        },
        {
          "name": "stdout",
          "output_type": "stream",
          "text": [
            "[I 2024-10-01 04:51:01,666] Trial 12 finished with value: 0.8425655976676385 and parameters: {'n_estimators': 100, 'max_depth': 6, 'criterion': 'gini', 'min_samples_split': 11, 'min_samples_leaf': 7, 'max_features': None}. Best is trial 8 with value: 0.8600583090379009.\n"
          ]
        },
        {
          "name": "stderr",
          "output_type": "stream",
          "text": [
            "Best trial: 8. Best value: 0.860058:  28%|██▊       | 14/50 [01:18<03:25,  5.70s/it]"
          ]
        },
        {
          "name": "stdout",
          "output_type": "stream",
          "text": [
            "[I 2024-10-01 04:51:08,843] Trial 13 finished with value: 0.8600583090379009 and parameters: {'n_estimators': 100, 'max_depth': 14, 'criterion': 'entropy', 'min_samples_split': 15, 'min_samples_leaf': 1, 'max_features': None}. Best is trial 8 with value: 0.8600583090379009.\n"
          ]
        },
        {
          "name": "stderr",
          "output_type": "stream",
          "text": [
            "Best trial: 8. Best value: 0.860058:  30%|███       | 15/50 [01:20<02:35,  4.44s/it]"
          ]
        },
        {
          "name": "stdout",
          "output_type": "stream",
          "text": [
            "[I 2024-10-01 04:51:10,355] Trial 14 finished with value: 0.8483965014577259 and parameters: {'n_estimators': 100, 'max_depth': 15, 'criterion': 'gini', 'min_samples_split': 9, 'min_samples_leaf': 1, 'max_features': 'log2'}. Best is trial 8 with value: 0.8600583090379009.\n"
          ]
        },
        {
          "name": "stderr",
          "output_type": "stream",
          "text": [
            "Best trial: 8. Best value: 0.860058:  32%|███▏      | 16/50 [01:33<03:57,  6.99s/it]"
          ]
        },
        {
          "name": "stdout",
          "output_type": "stream",
          "text": [
            "[I 2024-10-01 04:51:23,258] Trial 15 finished with value: 0.8454810495626822 and parameters: {'n_estimators': 200, 'max_depth': 14, 'criterion': 'entropy', 'min_samples_split': 13, 'min_samples_leaf': 8, 'max_features': None}. Best is trial 8 with value: 0.8600583090379009.\n"
          ]
        },
        {
          "name": "stderr",
          "output_type": "stream",
          "text": [
            "Best trial: 16. Best value: 0.862974:  34%|███▍      | 17/50 [01:40<03:54,  7.10s/it]"
          ]
        },
        {
          "name": "stdout",
          "output_type": "stream",
          "text": [
            "[I 2024-10-01 04:51:30,599] Trial 16 finished with value: 0.8629737609329446 and parameters: {'n_estimators': 150, 'max_depth': 17, 'criterion': 'gini', 'min_samples_split': 17, 'min_samples_leaf': 3, 'max_features': None}. Best is trial 16 with value: 0.8629737609329446.\n"
          ]
        },
        {
          "name": "stderr",
          "output_type": "stream",
          "text": [
            "Best trial: 16. Best value: 0.862974:  36%|███▌      | 18/50 [01:47<03:45,  7.04s/it]"
          ]
        },
        {
          "name": "stdout",
          "output_type": "stream",
          "text": [
            "[I 2024-10-01 04:51:37,508] Trial 17 finished with value: 0.8629737609329446 and parameters: {'n_estimators': 150, 'max_depth': 20, 'criterion': 'gini', 'min_samples_split': 18, 'min_samples_leaf': 3, 'max_features': None}. Best is trial 16 with value: 0.8629737609329446.\n"
          ]
        },
        {
          "name": "stderr",
          "output_type": "stream",
          "text": [
            "Best trial: 16. Best value: 0.862974:  38%|███▊      | 19/50 [01:49<02:50,  5.51s/it]"
          ]
        },
        {
          "name": "stdout",
          "output_type": "stream",
          "text": [
            "[I 2024-10-01 04:51:39,459] Trial 18 finished with value: 0.8396501457725948 and parameters: {'n_estimators': 200, 'max_depth': 20, 'criterion': 'gini', 'min_samples_split': 20, 'min_samples_leaf': 9, 'max_features': 'sqrt'}. Best is trial 16 with value: 0.8629737609329446.\n"
          ]
        },
        {
          "name": "stderr",
          "output_type": "stream",
          "text": [
            "Best trial: 16. Best value: 0.862974:  40%|████      | 20/50 [01:51<02:11,  4.40s/it]"
          ]
        },
        {
          "name": "stdout",
          "output_type": "stream",
          "text": [
            "[I 2024-10-01 04:51:41,265] Trial 19 finished with value: 0.8425655976676385 and parameters: {'n_estimators': 150, 'max_depth': 18, 'criterion': 'gini', 'min_samples_split': 17, 'min_samples_leaf': 4, 'max_features': 'log2'}. Best is trial 16 with value: 0.8629737609329446.\n"
          ]
        },
        {
          "name": "stderr",
          "output_type": "stream",
          "text": [
            "Best trial: 16. Best value: 0.862974:  42%|████▏     | 21/50 [02:02<03:02,  6.29s/it]"
          ]
        },
        {
          "name": "stdout",
          "output_type": "stream",
          "text": [
            "[I 2024-10-01 04:51:51,974] Trial 20 finished with value: 0.8454810495626822 and parameters: {'n_estimators': 250, 'max_depth': 17, 'criterion': 'gini', 'min_samples_split': 18, 'min_samples_leaf': 4, 'max_features': None}. Best is trial 16 with value: 0.8629737609329446.\n"
          ]
        },
        {
          "name": "stderr",
          "output_type": "stream",
          "text": [
            "Best trial: 16. Best value: 0.862974:  44%|████▍     | 22/50 [02:08<02:58,  6.36s/it]"
          ]
        },
        {
          "name": "stdout",
          "output_type": "stream",
          "text": [
            "[I 2024-10-01 04:51:58,458] Trial 21 finished with value: 0.8629737609329446 and parameters: {'n_estimators': 150, 'max_depth': 18, 'criterion': 'gini', 'min_samples_split': 18, 'min_samples_leaf': 3, 'max_features': None}. Best is trial 16 with value: 0.8629737609329446.\n"
          ]
        },
        {
          "name": "stderr",
          "output_type": "stream",
          "text": [
            "Best trial: 16. Best value: 0.862974:  46%|████▌     | 23/50 [02:15<02:56,  6.55s/it]"
          ]
        },
        {
          "name": "stdout",
          "output_type": "stream",
          "text": [
            "[I 2024-10-01 04:52:05,477] Trial 22 finished with value: 0.8629737609329446 and parameters: {'n_estimators': 150, 'max_depth': 18, 'criterion': 'gini', 'min_samples_split': 19, 'min_samples_leaf': 3, 'max_features': None}. Best is trial 16 with value: 0.8629737609329446.\n"
          ]
        },
        {
          "name": "stderr",
          "output_type": "stream",
          "text": [
            "Best trial: 16. Best value: 0.862974:  48%|████▊     | 24/50 [02:22<02:49,  6.51s/it]"
          ]
        },
        {
          "name": "stdout",
          "output_type": "stream",
          "text": [
            "[I 2024-10-01 04:52:11,897] Trial 23 finished with value: 0.8454810495626822 and parameters: {'n_estimators': 150, 'max_depth': 19, 'criterion': 'gini', 'min_samples_split': 17, 'min_samples_leaf': 6, 'max_features': None}. Best is trial 16 with value: 0.8629737609329446.\n"
          ]
        },
        {
          "name": "stderr",
          "output_type": "stream",
          "text": [
            "Best trial: 16. Best value: 0.862974:  50%|█████     | 25/50 [02:31<03:01,  7.25s/it]"
          ]
        },
        {
          "name": "stdout",
          "output_type": "stream",
          "text": [
            "[I 2024-10-01 04:52:20,855] Trial 24 finished with value: 0.8483965014577259 and parameters: {'n_estimators': 200, 'max_depth': 16, 'criterion': 'gini', 'min_samples_split': 18, 'min_samples_leaf': 7, 'max_features': None}. Best is trial 16 with value: 0.8629737609329446.\n"
          ]
        },
        {
          "name": "stderr",
          "output_type": "stream",
          "text": [
            "Best trial: 16. Best value: 0.862974:  52%|█████▏    | 26/50 [02:41<03:18,  8.28s/it]"
          ]
        },
        {
          "name": "stdout",
          "output_type": "stream",
          "text": [
            "[I 2024-10-01 04:52:31,561] Trial 25 finished with value: 0.8513119533527697 and parameters: {'n_estimators': 250, 'max_depth': 20, 'criterion': 'gini', 'min_samples_split': 16, 'min_samples_leaf': 3, 'max_features': None}. Best is trial 16 with value: 0.8629737609329446.\n"
          ]
        },
        {
          "name": "stderr",
          "output_type": "stream",
          "text": [
            "Best trial: 16. Best value: 0.862974:  54%|█████▍    | 27/50 [02:47<02:55,  7.64s/it]"
          ]
        },
        {
          "name": "stdout",
          "output_type": "stream",
          "text": [
            "[I 2024-10-01 04:52:37,702] Trial 26 finished with value: 0.8483965014577259 and parameters: {'n_estimators': 150, 'max_depth': 18, 'criterion': 'gini', 'min_samples_split': 20, 'min_samples_leaf': 5, 'max_features': None}. Best is trial 16 with value: 0.8629737609329446.\n"
          ]
        },
        {
          "name": "stderr",
          "output_type": "stream",
          "text": [
            "Best trial: 16. Best value: 0.862974:  56%|█████▌    | 28/50 [02:58<03:05,  8.43s/it]"
          ]
        },
        {
          "name": "stdout",
          "output_type": "stream",
          "text": [
            "[I 2024-10-01 04:52:47,965] Trial 27 finished with value: 0.8542274052478134 and parameters: {'n_estimators': 200, 'max_depth': 16, 'criterion': 'gini', 'min_samples_split': 16, 'min_samples_leaf': 1, 'max_features': None}. Best is trial 16 with value: 0.8629737609329446.\n"
          ]
        },
        {
          "name": "stderr",
          "output_type": "stream",
          "text": [
            "Best trial: 16. Best value: 0.862974:  58%|█████▊    | 29/50 [02:59<02:11,  6.26s/it]"
          ]
        },
        {
          "name": "stdout",
          "output_type": "stream",
          "text": [
            "[I 2024-10-01 04:52:49,167] Trial 28 finished with value: 0.8425655976676385 and parameters: {'n_estimators': 100, 'max_depth': 16, 'criterion': 'gini', 'min_samples_split': 19, 'min_samples_leaf': 8, 'max_features': 'sqrt'}. Best is trial 16 with value: 0.8629737609329446.\n"
          ]
        },
        {
          "name": "stderr",
          "output_type": "stream",
          "text": [
            "Best trial: 16. Best value: 0.862974:  60%|██████    | 30/50 [03:00<01:36,  4.84s/it]"
          ]
        },
        {
          "name": "stdout",
          "output_type": "stream",
          "text": [
            "[I 2024-10-01 04:52:50,700] Trial 29 finished with value: 0.8454810495626822 and parameters: {'n_estimators': 150, 'max_depth': 19, 'criterion': 'gini', 'min_samples_split': 18, 'min_samples_leaf': 3, 'max_features': 'log2'}. Best is trial 16 with value: 0.8629737609329446.\n"
          ]
        },
        {
          "name": "stderr",
          "output_type": "stream",
          "text": [
            "Best trial: 16. Best value: 0.862974:  62%|██████▏   | 31/50 [03:03<01:17,  4.07s/it]"
          ]
        },
        {
          "name": "stdout",
          "output_type": "stream",
          "text": [
            "[I 2024-10-01 04:52:52,985] Trial 30 finished with value: 0.8075801749271136 and parameters: {'n_estimators': 200, 'max_depth': 13, 'criterion': 'gini', 'min_samples_split': 13, 'min_samples_leaf': 20, 'max_features': 'sqrt'}. Best is trial 16 with value: 0.8629737609329446.\n"
          ]
        },
        {
          "name": "stderr",
          "output_type": "stream",
          "text": [
            "Best trial: 16. Best value: 0.862974:  64%|██████▍   | 32/50 [03:10<01:30,  5.01s/it]"
          ]
        },
        {
          "name": "stdout",
          "output_type": "stream",
          "text": [
            "[I 2024-10-01 04:53:00,194] Trial 31 finished with value: 0.8629737609329446 and parameters: {'n_estimators': 150, 'max_depth': 18, 'criterion': 'gini', 'min_samples_split': 19, 'min_samples_leaf': 3, 'max_features': None}. Best is trial 16 with value: 0.8629737609329446.\n"
          ]
        },
        {
          "name": "stderr",
          "output_type": "stream",
          "text": [
            "Best trial: 16. Best value: 0.862974:  66%|██████▌   | 33/50 [03:17<01:35,  5.62s/it]"
          ]
        },
        {
          "name": "stdout",
          "output_type": "stream",
          "text": [
            "[I 2024-10-01 04:53:07,246] Trial 32 finished with value: 0.8454810495626822 and parameters: {'n_estimators': 150, 'max_depth': 19, 'criterion': 'gini', 'min_samples_split': 17, 'min_samples_leaf': 5, 'max_features': None}. Best is trial 16 with value: 0.8629737609329446.\n"
          ]
        },
        {
          "name": "stderr",
          "output_type": "stream",
          "text": [
            "Best trial: 16. Best value: 0.862974:  68%|██████▊   | 34/50 [03:23<01:34,  5.91s/it]"
          ]
        },
        {
          "name": "stdout",
          "output_type": "stream",
          "text": [
            "[I 2024-10-01 04:53:13,817] Trial 33 finished with value: 0.8600583090379009 and parameters: {'n_estimators': 150, 'max_depth': 17, 'criterion': 'gini', 'min_samples_split': 19, 'min_samples_leaf': 2, 'max_features': None}. Best is trial 16 with value: 0.8629737609329446.\n"
          ]
        },
        {
          "name": "stderr",
          "output_type": "stream",
          "text": [
            "Best trial: 16. Best value: 0.862974:  70%|███████   | 35/50 [03:32<01:39,  6.60s/it]"
          ]
        },
        {
          "name": "stdout",
          "output_type": "stream",
          "text": [
            "[I 2024-10-01 04:53:22,036] Trial 34 finished with value: 0.8483965014577259 and parameters: {'n_estimators': 200, 'max_depth': 18, 'criterion': 'gini', 'min_samples_split': 15, 'min_samples_leaf': 5, 'max_features': None}. Best is trial 16 with value: 0.8629737609329446.\n"
          ]
        },
        {
          "name": "stderr",
          "output_type": "stream",
          "text": [
            "Best trial: 16. Best value: 0.862974:  72%|███████▏  | 36/50 [03:36<01:21,  5.86s/it]"
          ]
        },
        {
          "name": "stdout",
          "output_type": "stream",
          "text": [
            "[I 2024-10-01 04:53:26,136] Trial 35 finished with value: 0.8454810495626822 and parameters: {'n_estimators': 100, 'max_depth': 20, 'criterion': 'gini', 'min_samples_split': 19, 'min_samples_leaf': 6, 'max_features': None}. Best is trial 16 with value: 0.8629737609329446.\n"
          ]
        },
        {
          "name": "stderr",
          "output_type": "stream",
          "text": [
            "Best trial: 16. Best value: 0.862974:  74%|███████▍  | 37/50 [03:41<01:14,  5.74s/it]"
          ]
        },
        {
          "name": "stdout",
          "output_type": "stream",
          "text": [
            "[I 2024-10-01 04:53:31,615] Trial 36 finished with value: 0.8454810495626822 and parameters: {'n_estimators': 150, 'max_depth': 15, 'criterion': 'gini', 'min_samples_split': 17, 'min_samples_leaf': 11, 'max_features': None}. Best is trial 16 with value: 0.8629737609329446.\n"
          ]
        },
        {
          "name": "stderr",
          "output_type": "stream",
          "text": [
            "Best trial: 16. Best value: 0.862974:  76%|███████▌  | 38/50 [03:44<00:57,  4.81s/it]"
          ]
        },
        {
          "name": "stdout",
          "output_type": "stream",
          "text": [
            "[I 2024-10-01 04:53:34,253] Trial 37 finished with value: 0.8571428571428571 and parameters: {'n_estimators': 200, 'max_depth': 19, 'criterion': 'gini', 'min_samples_split': 5, 'min_samples_leaf': 3, 'max_features': 'sqrt'}. Best is trial 16 with value: 0.8629737609329446.\n"
          ]
        },
        {
          "name": "stderr",
          "output_type": "stream",
          "text": [
            "Best trial: 16. Best value: 0.862974:  78%|███████▊  | 39/50 [03:50<00:57,  5.24s/it]"
          ]
        },
        {
          "name": "stdout",
          "output_type": "stream",
          "text": [
            "[I 2024-10-01 04:53:40,508] Trial 38 finished with value: 0.8513119533527697 and parameters: {'n_estimators': 100, 'max_depth': 17, 'criterion': 'entropy', 'min_samples_split': 15, 'min_samples_leaf': 4, 'max_features': None}. Best is trial 16 with value: 0.8629737609329446.\n"
          ]
        },
        {
          "name": "stderr",
          "output_type": "stream",
          "text": [
            "Best trial: 16. Best value: 0.862974:  80%|████████  | 40/50 [03:59<01:01,  6.20s/it]"
          ]
        },
        {
          "name": "stdout",
          "output_type": "stream",
          "text": [
            "[I 2024-10-01 04:53:48,924] Trial 39 finished with value: 0.8425655976676385 and parameters: {'n_estimators': 250, 'max_depth': 12, 'criterion': 'gini', 'min_samples_split': 20, 'min_samples_leaf': 14, 'max_features': None}. Best is trial 16 with value: 0.8629737609329446.\n"
          ]
        },
        {
          "name": "stderr",
          "output_type": "stream",
          "text": [
            "Best trial: 16. Best value: 0.862974:  82%|████████▏ | 41/50 [04:00<00:43,  4.84s/it]"
          ]
        },
        {
          "name": "stdout",
          "output_type": "stream",
          "text": [
            "[I 2024-10-01 04:53:50,621] Trial 40 finished with value: 0.8367346938775511 and parameters: {'n_estimators': 50, 'max_depth': 15, 'criterion': 'gini', 'min_samples_split': 14, 'min_samples_leaf': 18, 'max_features': None}. Best is trial 16 with value: 0.8629737609329446.\n"
          ]
        },
        {
          "name": "stderr",
          "output_type": "stream",
          "text": [
            "Best trial: 16. Best value: 0.862974:  84%|████████▍ | 42/50 [04:07<00:42,  5.34s/it]"
          ]
        },
        {
          "name": "stdout",
          "output_type": "stream",
          "text": [
            "[I 2024-10-01 04:53:57,099] Trial 41 finished with value: 0.8629737609329446 and parameters: {'n_estimators': 150, 'max_depth': 18, 'criterion': 'gini', 'min_samples_split': 19, 'min_samples_leaf': 3, 'max_features': None}. Best is trial 16 with value: 0.8629737609329446.\n"
          ]
        },
        {
          "name": "stderr",
          "output_type": "stream",
          "text": [
            "Best trial: 16. Best value: 0.862974:  86%|████████▌ | 43/50 [04:13<00:40,  5.73s/it]"
          ]
        },
        {
          "name": "stdout",
          "output_type": "stream",
          "text": [
            "[I 2024-10-01 04:54:03,735] Trial 42 finished with value: 0.8513119533527697 and parameters: {'n_estimators': 150, 'max_depth': 19, 'criterion': 'gini', 'min_samples_split': 18, 'min_samples_leaf': 2, 'max_features': None}. Best is trial 16 with value: 0.8629737609329446.\n"
          ]
        },
        {
          "name": "stderr",
          "output_type": "stream",
          "text": [
            "Best trial: 16. Best value: 0.862974:  88%|████████▊ | 44/50 [04:20<00:35,  5.97s/it]"
          ]
        },
        {
          "name": "stdout",
          "output_type": "stream",
          "text": [
            "[I 2024-10-01 04:54:10,271] Trial 43 finished with value: 0.8542274052478134 and parameters: {'n_estimators': 150, 'max_depth': 20, 'criterion': 'gini', 'min_samples_split': 20, 'min_samples_leaf': 4, 'max_features': None}. Best is trial 16 with value: 0.8629737609329446.\n"
          ]
        },
        {
          "name": "stderr",
          "output_type": "stream",
          "text": [
            "Best trial: 16. Best value: 0.862974:  90%|█████████ | 45/50 [04:27<00:32,  6.40s/it]"
          ]
        },
        {
          "name": "stdout",
          "output_type": "stream",
          "text": [
            "[I 2024-10-01 04:54:17,678] Trial 44 finished with value: 0.8600583090379009 and parameters: {'n_estimators': 150, 'max_depth': 18, 'criterion': 'gini', 'min_samples_split': 19, 'min_samples_leaf': 2, 'max_features': None}. Best is trial 16 with value: 0.8629737609329446.\n"
          ]
        },
        {
          "name": "stderr",
          "output_type": "stream",
          "text": [
            "Best trial: 16. Best value: 0.862974:  92%|█████████▏| 46/50 [04:29<00:20,  5.06s/it]"
          ]
        },
        {
          "name": "stdout",
          "output_type": "stream",
          "text": [
            "[I 2024-10-01 04:54:19,636] Trial 45 finished with value: 0.8542274052478134 and parameters: {'n_estimators': 100, 'max_depth': 17, 'criterion': 'entropy', 'min_samples_split': 18, 'min_samples_leaf': 1, 'max_features': 'log2'}. Best is trial 16 with value: 0.8629737609329446.\n"
          ]
        },
        {
          "name": "stderr",
          "output_type": "stream",
          "text": [
            "Best trial: 16. Best value: 0.862974:  94%|█████████▍| 47/50 [04:35<00:15,  5.17s/it]"
          ]
        },
        {
          "name": "stdout",
          "output_type": "stream",
          "text": [
            "[I 2024-10-01 04:54:25,067] Trial 46 finished with value: 0.8542274052478134 and parameters: {'n_estimators': 150, 'max_depth': 7, 'criterion': 'gini', 'min_samples_split': 16, 'min_samples_leaf': 3, 'max_features': None}. Best is trial 16 with value: 0.8629737609329446.\n"
          ]
        },
        {
          "name": "stderr",
          "output_type": "stream",
          "text": [
            "Best trial: 16. Best value: 0.862974:  96%|█████████▌| 48/50 [04:39<00:09,  4.87s/it]"
          ]
        },
        {
          "name": "stdout",
          "output_type": "stream",
          "text": [
            "[I 2024-10-01 04:54:29,220] Trial 47 finished with value: 0.8513119533527697 and parameters: {'n_estimators': 100, 'max_depth': 16, 'criterion': 'gini', 'min_samples_split': 17, 'min_samples_leaf': 5, 'max_features': None}. Best is trial 16 with value: 0.8629737609329446.\n"
          ]
        },
        {
          "name": "stderr",
          "output_type": "stream",
          "text": [
            "Best trial: 16. Best value: 0.862974:  98%|█████████▊| 49/50 [04:54<00:07,  7.89s/it]"
          ]
        },
        {
          "name": "stdout",
          "output_type": "stream",
          "text": [
            "[I 2024-10-01 04:54:44,164] Trial 48 finished with value: 0.8483965014577259 and parameters: {'n_estimators': 200, 'max_depth': 10, 'criterion': 'entropy', 'min_samples_split': 10, 'min_samples_leaf': 6, 'max_features': None}. Best is trial 16 with value: 0.8629737609329446.\n"
          ]
        },
        {
          "name": "stderr",
          "output_type": "stream",
          "text": [
            "Best trial: 16. Best value: 0.862974: 100%|██████████| 50/50 [04:56<00:00,  5.92s/it]"
          ]
        },
        {
          "name": "stdout",
          "output_type": "stream",
          "text": [
            "[I 2024-10-01 04:54:45,939] Trial 49 finished with value: 0.8483965014577259 and parameters: {'n_estimators': 150, 'max_depth': 19, 'criterion': 'gini', 'min_samples_split': 5, 'min_samples_leaf': 7, 'max_features': 'sqrt'}. Best is trial 16 with value: 0.8629737609329446.\n"
          ]
        },
        {
          "name": "stderr",
          "output_type": "stream",
          "text": [
            "\n"
          ]
        }
      ],
      "source": [
        "# PERFORM BAYESIAN OPTIMIZATION\n",
        "tpe = optuna.samplers.TPESampler()\n",
        "study = optuna.create_study(direction=\"maximize\", sampler=tpe)\n",
        "study.optimize(obj_fn, n_trials=50, show_progress_bar=True)"
      ]
    },
    {
      "cell_type": "code",
      "execution_count": 15,
      "metadata": {
        "id": "iwu0g3jrAFVB"
      },
      "outputs": [
        {
          "data": {
            "text/plain": [
              "{'n_estimators': 150,\n",
              " 'max_depth': 17,\n",
              " 'criterion': 'gini',\n",
              " 'min_samples_split': 17,\n",
              " 'min_samples_leaf': 3,\n",
              " 'max_features': None}"
            ]
          },
          "execution_count": 15,
          "metadata": {},
          "output_type": "execute_result"
        }
      ],
      "source": [
        "best_model_params = study.best_params\n",
        "best_model_params"
      ]
    },
    {
      "cell_type": "code",
      "execution_count": 16,
      "metadata": {
        "id": "inPc_CZT-PG6"
      },
      "outputs": [
        {
          "name": "stdout",
          "output_type": "stream",
          "text": [
            "Classification Report on Training Data\n",
            "--------------------------------------------------------------------------------\n",
            "              precision    recall  f1-score   support\n",
            "\n",
            "         BCC     0.9114    0.9062    0.9088       352\n",
            "         FCC     0.9424    0.9228    0.9325       337\n",
            "     FCC_BCC     0.8992    0.9677    0.9322       341\n",
            "         MIP     0.9068    0.8614    0.8835       339\n",
            "\n",
            "    accuracy                         0.9145      1369\n",
            "   macro avg     0.9150    0.9145    0.9143      1369\n",
            "weighted avg     0.9149    0.9145    0.9142      1369\n",
            "\n",
            "Classification Report on Test Data\n",
            "--------------------------------------------------------------------------------\n",
            "              precision    recall  f1-score   support\n",
            "\n",
            "         BCC     0.9041    0.8684    0.8859        76\n",
            "         FCC     0.8966    0.8571    0.8764        91\n",
            "     FCC_BCC     0.8137    0.9540    0.8783        87\n",
            "         MIP     0.8519    0.7753    0.8118        89\n",
            "\n",
            "    accuracy                         0.8630       343\n",
            "   macro avg     0.8666    0.8637    0.8631       343\n",
            "weighted avg     0.8656    0.8630    0.8622       343\n",
            "\n",
            "--------------------------------------------------------------------------------\n",
            "ROC-AUC SCORE:  96.2521 %\n"
          ]
        }
      ],
      "source": [
        "# BUILD MODEL USING BEST PARAMETERS AND EVALUATE\n",
        "best_model = RandomForestClassifier(**best_model_params, random_state=42)\n",
        "best_model.fit(X_train, y_train)\n",
        "y_train_pred = best_model.predict(X_train)\n",
        "y_test_pred = best_model.predict(X_test)\n",
        "\n",
        "# CLASSIFICATION REPORT\n",
        "print(\"Classification Report on Training Data\")\n",
        "print(\"-\"*80)\n",
        "print(classification_report(y_train, y_train_pred, target_names=labels, digits=4))\n",
        "\n",
        "print(\"Classification Report on Test Data\")\n",
        "print(\"-\"*80)\n",
        "print(classification_report(y_test, y_test_pred, target_names=labels, digits=4))\n",
        "\n",
        "# EVALUATE ROC-AUC SCORE\n",
        "pred_proba = best_model.predict_proba(X_test)\n",
        "roc_auc = roc_auc_score(y_test, pred_proba, multi_class='ovr')\n",
        "print(\"-\"*80)\n",
        "print(f\"ROC-AUC SCORE: {roc_auc*100: .4f} %\")"
      ]
    },
    {
      "cell_type": "code",
      "execution_count": 17,
      "metadata": {
        "id": "7Qc8mg_G-PG7"
      },
      "outputs": [
        {
          "data": {
            "image/png": "[encoded data removed]",
            "text/plain": [
              "<Figure size 600x600 with 1 Axes>"
            ]
          },
          "metadata": {},
          "output_type": "display_data"
        }
      ],
      "source": [
        "# PLOT ROC CURVE\n",
        "fig, ax = plt.subplots(figsize=(6, 6))\n",
        "y_test_oh = to_categorical(y_test)\n",
        "colors = cycle([\"red\", \"green\", \"blue\", \"orange\"])\n",
        "for class_id, color in zip(range(4), colors):\n",
        "    RocCurveDisplay.from_predictions(\n",
        "        y_test_oh[:, class_id],\n",
        "        pred_proba[:, class_id],\n",
        "        name=f\"ROC curve for {labels[class_id]}\",\n",
        "        color=color,\n",
        "        ax=ax,\n",
        "    )\n",
        "ax.plot([0, 1], [0, 1], 'k--', lw=2)\n",
        "ax.legend(loc='lower right', fontsize='10')\n",
        "plt.title(\"ROC for each classes\")\n",
        "plt.savefig(pwd+\"/figures/rf_roc_curve.png\", dpi=600, bbox_inches=\"tight\")"
      ]
    },
    {
      "cell_type": "code",
      "execution_count": 18,
      "metadata": {
        "id": "fK9CJZeM-PG7"
      },
      "outputs": [
        {
          "name": "stdout",
          "output_type": "stream",
          "text": [
            "Training accuracy per class: [0.90625    0.92284866 0.96774194 0.86135693]\n",
            "Testing accuracy per class: [0.86842105 0.85714286 0.95402299 0.7752809 ]\n"
          ]
        },
        {
          "data": {
            "image/png": "[encoded data removed]",
            "text/plain": [
              "<Figure size 1500x500 with 4 Axes>"
            ]
          },
          "metadata": {},
          "output_type": "display_data"
        }
      ],
      "source": [
        "# CONFUSION MATRIX\n",
        "cm_train = confusion_matrix(y_train, y_train_pred)\n",
        "cm_test = confusion_matrix(y_test, y_test_pred)\n",
        "f,(ax1, ax2) = plt.subplots(1,2, figsize = (15,5))\n",
        "disp_train = ConfusionMatrixDisplay(confusion_matrix=cm_train, display_labels=labels)\n",
        "disp_test = ConfusionMatrixDisplay(confusion_matrix=cm_test, display_labels=labels)\n",
        "disp_train.plot(ax = ax1)\n",
        "disp_test.plot(ax = ax2)\n",
        "ax1.set_title('Training Set')\n",
        "ax2.set_title('Testing Set')\n",
        "ax1.grid(False)\n",
        "ax2.grid(False)\n",
        "plt.suptitle('Train and Test Confusion Matrix')\n",
        "plt.savefig(pwd+\"/figures/rf_cf.png\", dpi=600, bbox_inches=\"tight\")\n",
        "# ACCURACY PER CLASS\n",
        "acc_class_train = cm_train.diagonal() / cm_train.sum(axis=1)\n",
        "acc_class_test = cm_test.diagonal() / cm_test.sum(axis=1)\n",
        "\n",
        "print(\"Training accuracy per class:\", acc_class_train)\n",
        "print(\"Testing accuracy per class:\", acc_class_test)"
      ]
    },
    {
      "cell_type": "code",
      "execution_count": 19,
      "metadata": {
        "id": "B2IN6imd-PG8"
      },
      "outputs": [
        {
          "name": "stdout",
          "output_type": "stream",
          "text": [
            "Cross Validation Score\n",
            "--------------------------------------------------\n",
            "Mean Accuracy:  84.3418 % \n",
            "Standard Deviation: (+/-) 2.7076 %\n",
            "--------------------------------------------------\n"
          ]
        }
      ],
      "source": [
        "# 10 FOLD CROSS VALIDATION\n",
        "kfold = StratifiedKFold(n_splits=10, shuffle=True, random_state=42)\n",
        "cv_scores = []\n",
        "\n",
        "for train_idx, test_idx in kfold.split(X, y):\n",
        "    X_train_cv, y_train_cv = X.iloc[train_idx], y[train_idx]\n",
        "    X_test_cv, y_test_cv = X.iloc[test_idx], y[test_idx]\n",
        "    best_model.fit(X_train_cv, y_train_cv)\n",
        "    y_test_pred_cv = best_model.predict(X_test_cv)\n",
        "    score = accuracy_score(y_test_cv, y_test_pred_cv)\n",
        "    cv_scores.append(score*100)\n",
        "\n",
        "print(\"Cross Validation Score\")\n",
        "print(\"-\"*50)\n",
        "print(f\"Mean Accuracy: {np.mean(cv_scores): .4f} % \\nStandard Deviation: (+/-){np.std(cv_scores): .4f} %\")\n",
        "print(\"-\"*50)"
      ]
    }
  ],
  "metadata": {
    "colab": {
      "provenance": []
    },
    "kernelspec": {
      "display_name": "Python 3",
      "name": "python3"
    },
    "language_info": {
      "codemirror_mode": {
        "name": "ipython",
        "version": 3
      },
      "file_extension": ".py",
      "mimetype": "text/x-python",
      "name": "python",
      "nbconvert_exporter": "python",
      "pygments_lexer": "ipython3",
      "version": "3.12.3"
    }
  },
  "nbformat": 4,
  "nbformat_minor": 0
}
